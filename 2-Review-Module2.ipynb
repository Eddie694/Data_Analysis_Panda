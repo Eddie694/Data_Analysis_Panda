{
 "cells": [
  {
   "cell_type": "code",
   "execution_count": null,
   "id": "42979244-4a58-4512-80d2-584ef64b8d2c",
   "metadata": {},
   "outputs": [],
   "source": [
    "import pandas as pd\n",
    "import numpy as np\n",
    "import matplotlib.pylab as plt"
   ]
  },
  {
   "cell_type": "code",
   "execution_count": null,
   "id": "c7260af1-4f3e-4589-bafd-a29a1f432644",
   "metadata": {},
   "outputs": [],
   "source": [
    "# Importing Dataset from URL\n",
    "filename = \"https://archive.ics.uci.edu/ml/machine-learning-databases/autos/imports-85.data\""
   ]
  },
  {
   "cell_type": "code",
   "execution_count": null,
   "id": "66cc0f54-5d33-4f91-b50c-7622b33e20aa",
   "metadata": {},
   "outputs": [],
   "source": [
    "# Define the header\n",
    "\n",
    "headers = [\"symboling\",\"normalized-losses\",\"make\",\"fuel-type\",\"aspiration\",\n",
    "        \"num-of-doors\",\"body-style\",\"drive-wheels\",\"engine-location\",\"wheel-base\",\n",
    "        \"length\",\"width\",\"height\",\"curb-weight\",\"engine-type\",\"num-of-cylinders\",\n",
    "        \"engine-size\",\"fuel-system\",\"bore\",\"stroke\",\"compression-ratio\",\"horsepower\",\n",
    "        \"peak-rpm\",\"city-mpg\",\"highway-mpg\",\"price\"]\n",
    "\n"
   ]
  },
  {
   "cell_type": "code",
   "execution_count": null,
   "id": "4cd54a69-e46b-4b71-825b-bd0ab05099ce",
   "metadata": {},
   "outputs": [
    {
     "ename": "ValueError",
     "evalue": "header must be integer or list of integers",
     "output_type": "error",
     "traceback": [
      "\u001b[1;31m---------------------------------------------------------------------------\u001b[0m",
      "\u001b[1;31mValueError\u001b[0m                                Traceback (most recent call last)",
      "Cell \u001b[1;32mIn[30], line 2\u001b[0m\n\u001b[0;32m      1\u001b[0m \u001b[38;5;66;03m#reading the Dataset\u001b[39;00m\n\u001b[1;32m----> 2\u001b[0m data \u001b[38;5;241m=\u001b[39m \u001b[43mpd\u001b[49m\u001b[38;5;241;43m.\u001b[39;49m\u001b[43mread_csv\u001b[49m\u001b[43m(\u001b[49m\u001b[43mpath\u001b[49m\u001b[43m,\u001b[49m\u001b[43m \u001b[49m\u001b[43mheader\u001b[49m\u001b[43m \u001b[49m\u001b[38;5;241;43m=\u001b[39;49m\u001b[43m \u001b[49m\u001b[43mheaders\u001b[49m\u001b[43m)\u001b[49m\n",
      "File \u001b[1;32m~\\anaconda3\\lib\\site-packages\\pandas\\util\\_decorators.py:211\u001b[0m, in \u001b[0;36mdeprecate_kwarg.<locals>._deprecate_kwarg.<locals>.wrapper\u001b[1;34m(*args, **kwargs)\u001b[0m\n\u001b[0;32m    209\u001b[0m     \u001b[38;5;28;01melse\u001b[39;00m:\n\u001b[0;32m    210\u001b[0m         kwargs[new_arg_name] \u001b[38;5;241m=\u001b[39m new_arg_value\n\u001b[1;32m--> 211\u001b[0m \u001b[38;5;28;01mreturn\u001b[39;00m func(\u001b[38;5;241m*\u001b[39margs, \u001b[38;5;241m*\u001b[39m\u001b[38;5;241m*\u001b[39mkwargs)\n",
      "File \u001b[1;32m~\\anaconda3\\lib\\site-packages\\pandas\\util\\_decorators.py:331\u001b[0m, in \u001b[0;36mdeprecate_nonkeyword_arguments.<locals>.decorate.<locals>.wrapper\u001b[1;34m(*args, **kwargs)\u001b[0m\n\u001b[0;32m    325\u001b[0m \u001b[38;5;28;01mif\u001b[39;00m \u001b[38;5;28mlen\u001b[39m(args) \u001b[38;5;241m>\u001b[39m num_allow_args:\n\u001b[0;32m    326\u001b[0m     warnings\u001b[38;5;241m.\u001b[39mwarn(\n\u001b[0;32m    327\u001b[0m         msg\u001b[38;5;241m.\u001b[39mformat(arguments\u001b[38;5;241m=\u001b[39m_format_argument_list(allow_args)),\n\u001b[0;32m    328\u001b[0m         \u001b[38;5;167;01mFutureWarning\u001b[39;00m,\n\u001b[0;32m    329\u001b[0m         stacklevel\u001b[38;5;241m=\u001b[39mfind_stack_level(),\n\u001b[0;32m    330\u001b[0m     )\n\u001b[1;32m--> 331\u001b[0m \u001b[38;5;28;01mreturn\u001b[39;00m func(\u001b[38;5;241m*\u001b[39margs, \u001b[38;5;241m*\u001b[39m\u001b[38;5;241m*\u001b[39mkwargs)\n",
      "File \u001b[1;32m~\\anaconda3\\lib\\site-packages\\pandas\\io\\parsers\\readers.py:950\u001b[0m, in \u001b[0;36mread_csv\u001b[1;34m(filepath_or_buffer, sep, delimiter, header, names, index_col, usecols, squeeze, prefix, mangle_dupe_cols, dtype, engine, converters, true_values, false_values, skipinitialspace, skiprows, skipfooter, nrows, na_values, keep_default_na, na_filter, verbose, skip_blank_lines, parse_dates, infer_datetime_format, keep_date_col, date_parser, dayfirst, cache_dates, iterator, chunksize, compression, thousands, decimal, lineterminator, quotechar, quoting, doublequote, escapechar, comment, encoding, encoding_errors, dialect, error_bad_lines, warn_bad_lines, on_bad_lines, delim_whitespace, low_memory, memory_map, float_precision, storage_options)\u001b[0m\n\u001b[0;32m    935\u001b[0m kwds_defaults \u001b[38;5;241m=\u001b[39m _refine_defaults_read(\n\u001b[0;32m    936\u001b[0m     dialect,\n\u001b[0;32m    937\u001b[0m     delimiter,\n\u001b[1;32m   (...)\u001b[0m\n\u001b[0;32m    946\u001b[0m     defaults\u001b[38;5;241m=\u001b[39m{\u001b[38;5;124m\"\u001b[39m\u001b[38;5;124mdelimiter\u001b[39m\u001b[38;5;124m\"\u001b[39m: \u001b[38;5;124m\"\u001b[39m\u001b[38;5;124m,\u001b[39m\u001b[38;5;124m\"\u001b[39m},\n\u001b[0;32m    947\u001b[0m )\n\u001b[0;32m    948\u001b[0m kwds\u001b[38;5;241m.\u001b[39mupdate(kwds_defaults)\n\u001b[1;32m--> 950\u001b[0m \u001b[38;5;28;01mreturn\u001b[39;00m \u001b[43m_read\u001b[49m\u001b[43m(\u001b[49m\u001b[43mfilepath_or_buffer\u001b[49m\u001b[43m,\u001b[49m\u001b[43m \u001b[49m\u001b[43mkwds\u001b[49m\u001b[43m)\u001b[49m\n",
      "File \u001b[1;32m~\\anaconda3\\lib\\site-packages\\pandas\\io\\parsers\\readers.py:605\u001b[0m, in \u001b[0;36m_read\u001b[1;34m(filepath_or_buffer, kwds)\u001b[0m\n\u001b[0;32m    602\u001b[0m _validate_names(kwds\u001b[38;5;241m.\u001b[39mget(\u001b[38;5;124m\"\u001b[39m\u001b[38;5;124mnames\u001b[39m\u001b[38;5;124m\"\u001b[39m, \u001b[38;5;28;01mNone\u001b[39;00m))\n\u001b[0;32m    604\u001b[0m \u001b[38;5;66;03m# Create the parser.\u001b[39;00m\n\u001b[1;32m--> 605\u001b[0m parser \u001b[38;5;241m=\u001b[39m TextFileReader(filepath_or_buffer, \u001b[38;5;241m*\u001b[39m\u001b[38;5;241m*\u001b[39mkwds)\n\u001b[0;32m    607\u001b[0m \u001b[38;5;28;01mif\u001b[39;00m chunksize \u001b[38;5;129;01mor\u001b[39;00m iterator:\n\u001b[0;32m    608\u001b[0m     \u001b[38;5;28;01mreturn\u001b[39;00m parser\n",
      "File \u001b[1;32m~\\anaconda3\\lib\\site-packages\\pandas\\io\\parsers\\readers.py:1434\u001b[0m, in \u001b[0;36mTextFileReader.__init__\u001b[1;34m(self, f, engine, **kwds)\u001b[0m\n\u001b[0;32m   1431\u001b[0m \u001b[38;5;28mself\u001b[39m\u001b[38;5;241m.\u001b[39mnrows \u001b[38;5;241m=\u001b[39m options\u001b[38;5;241m.\u001b[39mpop(\u001b[38;5;124m\"\u001b[39m\u001b[38;5;124mnrows\u001b[39m\u001b[38;5;124m\"\u001b[39m, \u001b[38;5;28;01mNone\u001b[39;00m)\n\u001b[0;32m   1433\u001b[0m \u001b[38;5;28mself\u001b[39m\u001b[38;5;241m.\u001b[39m_check_file_or_buffer(f, engine)\n\u001b[1;32m-> 1434\u001b[0m \u001b[38;5;28mself\u001b[39m\u001b[38;5;241m.\u001b[39moptions, \u001b[38;5;28mself\u001b[39m\u001b[38;5;241m.\u001b[39mengine \u001b[38;5;241m=\u001b[39m \u001b[38;5;28;43mself\u001b[39;49m\u001b[38;5;241;43m.\u001b[39;49m\u001b[43m_clean_options\u001b[49m\u001b[43m(\u001b[49m\u001b[43moptions\u001b[49m\u001b[43m,\u001b[49m\u001b[43m \u001b[49m\u001b[43mengine\u001b[49m\u001b[43m)\u001b[49m\n\u001b[0;32m   1436\u001b[0m \u001b[38;5;28mself\u001b[39m\u001b[38;5;241m.\u001b[39msqueeze \u001b[38;5;241m=\u001b[39m \u001b[38;5;28mself\u001b[39m\u001b[38;5;241m.\u001b[39moptions\u001b[38;5;241m.\u001b[39mpop(\u001b[38;5;124m\"\u001b[39m\u001b[38;5;124msqueeze\u001b[39m\u001b[38;5;124m\"\u001b[39m, \u001b[38;5;28;01mFalse\u001b[39;00m)\n\u001b[0;32m   1438\u001b[0m \u001b[38;5;28;01mif\u001b[39;00m \u001b[38;5;124m\"\u001b[39m\u001b[38;5;124mhas_index_names\u001b[39m\u001b[38;5;124m\"\u001b[39m \u001b[38;5;129;01min\u001b[39;00m kwds:\n",
      "File \u001b[1;32m~\\anaconda3\\lib\\site-packages\\pandas\\io\\parsers\\readers.py:1629\u001b[0m, in \u001b[0;36mTextFileReader._clean_options\u001b[1;34m(self, options, engine)\u001b[0m\n\u001b[0;32m   1626\u001b[0m na_values \u001b[38;5;241m=\u001b[39m options[\u001b[38;5;124m\"\u001b[39m\u001b[38;5;124mna_values\u001b[39m\u001b[38;5;124m\"\u001b[39m]\n\u001b[0;32m   1627\u001b[0m skiprows \u001b[38;5;241m=\u001b[39m options[\u001b[38;5;124m\"\u001b[39m\u001b[38;5;124mskiprows\u001b[39m\u001b[38;5;124m\"\u001b[39m]\n\u001b[1;32m-> 1629\u001b[0m \u001b[43mvalidate_header_arg\u001b[49m\u001b[43m(\u001b[49m\u001b[43moptions\u001b[49m\u001b[43m[\u001b[49m\u001b[38;5;124;43m\"\u001b[39;49m\u001b[38;5;124;43mheader\u001b[39;49m\u001b[38;5;124;43m\"\u001b[39;49m\u001b[43m]\u001b[49m\u001b[43m)\u001b[49m\n\u001b[0;32m   1631\u001b[0m \u001b[38;5;28;01mfor\u001b[39;00m arg \u001b[38;5;129;01min\u001b[39;00m _deprecated_defaults\u001b[38;5;241m.\u001b[39mkeys():\n\u001b[0;32m   1632\u001b[0m     parser_default \u001b[38;5;241m=\u001b[39m _c_parser_defaults\u001b[38;5;241m.\u001b[39mget(arg, parser_defaults[arg])\n",
      "File \u001b[1;32m~\\anaconda3\\lib\\site-packages\\pandas\\io\\common.py:198\u001b[0m, in \u001b[0;36mvalidate_header_arg\u001b[1;34m(header)\u001b[0m\n\u001b[0;32m    196\u001b[0m header \u001b[38;5;241m=\u001b[39m cast(Sequence, header)\n\u001b[0;32m    197\u001b[0m \u001b[38;5;28;01mif\u001b[39;00m \u001b[38;5;129;01mnot\u001b[39;00m \u001b[38;5;28mall\u001b[39m(\u001b[38;5;28mmap\u001b[39m(is_integer, header)):\n\u001b[1;32m--> 198\u001b[0m     \u001b[38;5;28;01mraise\u001b[39;00m \u001b[38;5;167;01mValueError\u001b[39;00m(\u001b[38;5;124m\"\u001b[39m\u001b[38;5;124mheader must be integer or list of integers\u001b[39m\u001b[38;5;124m\"\u001b[39m)\n\u001b[0;32m    199\u001b[0m \u001b[38;5;28;01mif\u001b[39;00m \u001b[38;5;28many\u001b[39m(i \u001b[38;5;241m<\u001b[39m \u001b[38;5;241m0\u001b[39m \u001b[38;5;28;01mfor\u001b[39;00m i \u001b[38;5;129;01min\u001b[39;00m header):\n\u001b[0;32m    200\u001b[0m     \u001b[38;5;28;01mraise\u001b[39;00m \u001b[38;5;167;01mValueError\u001b[39;00m(\u001b[38;5;124m\"\u001b[39m\u001b[38;5;124mcannot specify multi-index header with negative integers\u001b[39m\u001b[38;5;124m\"\u001b[39m)\n",
      "\u001b[1;31mValueError\u001b[0m: header must be integer or list of integers"
     ]
    }
   ],
   "source": [
    "#reading the Dataset\n",
    "data = pd.read_csv(filename, names = headers)"
   ]
  },
  {
   "cell_type": "code",
   "execution_count": null,
   "id": "ec5c9653-d992-4257-a249-cd6421693fa2",
   "metadata": {
    "tags": []
   },
   "outputs": [
    {
     "ename": "NameError",
     "evalue": "name 'data' is not defined",
     "output_type": "error",
     "traceback": [
      "\u001b[1;31m---------------------------------------------------------------------------\u001b[0m",
      "\u001b[1;31mNameError\u001b[0m                                 Traceback (most recent call last)",
      "Cell \u001b[1;32mIn[22], line 3\u001b[0m\n\u001b[0;32m      1\u001b[0m \u001b[38;5;66;03m#displaying thr firt ten headers\u001b[39;00m\n\u001b[1;32m----> 3\u001b[0m \u001b[43mdata\u001b[49m\u001b[38;5;241m.\u001b[39mhead(\u001b[38;5;241m10\u001b[39m)\n",
      "\u001b[1;31mNameError\u001b[0m: name 'data' is not defined"
     ]
    }
   ],
   "source": [
    "#displaying thr firt ten headers\n",
    "\n",
    "data.head(10)"
   ]
  },
  {
   "cell_type": "code",
   "execution_count": null,
   "id": "b74bbcc4-2726-486f-b654-a278fd66e571",
   "metadata": {},
   "outputs": [],
   "source": [
    "# How to work on missing data\n",
    "# identify the missing data\n",
    "# Deal with missing data\n",
    "# Correct data format"
   ]
  },
  {
   "cell_type": "code",
   "execution_count": null,
   "id": "193b2fbd-2e10-4ac4-85b4-8ca4fb11e02f",
   "metadata": {
    "tags": []
   },
   "outputs": [],
   "source": [
    "# identify columns with missing data\n",
    "\n",
    "missing_data = data.isnull()"
   ]
  },
  {
   "cell_type": "code",
   "execution_count": null,
   "id": "a8f849af-f3b5-4a3c-a379-0dc96f78fcd7",
   "metadata": {
    "tags": []
   },
   "outputs": [],
   "source": [
    "data.notnull()"
   ]
  },
  {
   "cell_type": "code",
   "execution_count": null,
   "id": "a1b1d7ea-bc93-429c-9085-a7f125ed19dc",
   "metadata": {
    "tags": []
   },
   "outputs": [],
   "source": [
    "# identifying the missing data \"?\" means empty cells\n",
    "# convert the \"?\" to NaN\n",
    "# syntax data.replace(A, np.nan, inplace = true)\n",
    "\n",
    "data.columns[data.isna().any()].tolist()"
   ]
  },
  {
   "cell_type": "code",
   "execution_count": null,
   "id": "05ad40fc-2984-4891-8d78-2b066d5ccd67",
   "metadata": {},
   "outputs": [],
   "source": [
    "print(type(missing_data))"
   ]
  },
  {
   "cell_type": "code",
   "execution_count": null,
   "id": "a77e6291-5703-4ef0-9e68-95de287317da",
   "metadata": {
    "tags": []
   },
   "outputs": [],
   "source": [
    "# Number of missing value in each column\n",
    "data.isna().sum()"
   ]
  },
  {
   "cell_type": "code",
   "execution_count": null,
   "id": "32640117-5103-4ef5-9816-becd43d59837",
   "metadata": {
    "tags": []
   },
   "outputs": [],
   "source": [
    "# number of missing value in columns with missing adat\n",
    "for column in missing_data.columns.values.tolist():\n",
    "    print(column)\n",
    "    print(missing_data[column].value_counts())\n",
    "    print(\"\")\n"
   ]
  },
  {
   "cell_type": "code",
   "execution_count": null,
   "id": "69a05423-63f1-4331-adb5-1d71f75cdcc0",
   "metadata": {
    "tags": []
   },
   "outputs": [],
   "source": [
    "# syntax data.replace(A, np.nan, inplace = true)\n",
    "\n",
    "data.replace(\"?\",np.nan, inplace = True)\n",
    "data.head(5)\n"
   ]
  },
  {
   "cell_type": "code",
   "execution_count": null,
   "id": "cadb9387-cdbd-4dc1-a82d-61356389d989",
   "metadata": {},
   "outputs": [],
   "source": [
    "data.columns[data.isna().any()].tolist()"
   ]
  },
  {
   "cell_type": "code",
   "execution_count": null,
   "id": "cc2b5e0b-6f24-4edc-85a5-06063c6a1294",
   "metadata": {
    "tags": []
   },
   "outputs": [],
   "source": [
    "#Method of Normalizing Data \n",
    "#\n",
    "#\n",
    "#\n",
    "#\n",
    "#\n",
    "#\n",
    "#\n",
    "#"
   ]
  },
  {
   "cell_type": "code",
   "execution_count": null,
   "id": "d612aa07-3664-4a91-8306-7558b684192c",
   "metadata": {},
   "outputs": [],
   "source": [
    "#calculating the average of normalized-losses for normilization of missig value in that colume \n",
    "\n",
    "average_loss = data[\"normalized-losses\"].astype(\"float\").mean(axis=0)\n",
    "print(\"the average of normalized-losses is: \",average_loss)"
   ]
  },
  {
   "cell_type": "code",
   "execution_count": null,
   "id": "bbcfe236-49cc-4d78-ab1d-3f2e49556644",
   "metadata": {},
   "outputs": [],
   "source": [
    "data[\"normalized-losses\"].replace(np.nan, average_loss, inplace = True)"
   ]
  },
  {
   "cell_type": "code",
   "execution_count": null,
   "id": "3da13feb-fe41-49d5-b7bf-33fb6e752c58",
   "metadata": {
    "tags": []
   },
   "outputs": [],
   "source": [
    "data.head(5)"
   ]
  },
  {
   "cell_type": "code",
   "execution_count": null,
   "id": "cc56b9a2-215f-41c0-97f8-56fcc4f722c0",
   "metadata": {},
   "outputs": [],
   "source": [
    "data.dtypes"
   ]
  },
  {
   "cell_type": "code",
   "execution_count": null,
   "id": "32f18f07-9c24-447a-843f-8d53fc334201",
   "metadata": {},
   "outputs": [],
   "source": [
    "data[\"num-of-doors\"].describe()"
   ]
  },
  {
   "cell_type": "code",
   "execution_count": null,
   "id": "4d349298-a207-4220-9d70-391519e3ffff",
   "metadata": {},
   "outputs": [],
   "source": [
    "data[\"num-of-doors\"].replace(np.nan, \"four\", inplace = True)"
   ]
  },
  {
   "cell_type": "code",
   "execution_count": null,
   "id": "6c225436-7ce1-423a-ba6c-f4a8fc3497be",
   "metadata": {},
   "outputs": [],
   "source": [
    "average_stroke = data[\"stroke\"].astype(\"float\").mean(axis =0)\n",
    "print(\"the average of stroke is: \", average_stroke)"
   ]
  },
  {
   "cell_type": "code",
   "execution_count": null,
   "id": "60f10a21-0cc7-4d30-9652-9885da03ca7e",
   "metadata": {},
   "outputs": [],
   "source": [
    "data[\"stroke\"].replace(np.nan, average_stroke, inplace = True)"
   ]
  },
  {
   "cell_type": "code",
   "execution_count": null,
   "id": "2abb8e66-dfde-4aa3-a557-077a1d3bbf73",
   "metadata": {},
   "outputs": [],
   "source": [
    "data[\"stroke\"].isnull().sum()"
   ]
  },
  {
   "cell_type": "code",
   "execution_count": null,
   "id": "8a91c1cf-dfa9-40e6-b8d2-c24fc41628aa",
   "metadata": {},
   "outputs": [],
   "source": [
    "data.columns[data.isna().any()].tolist()"
   ]
  },
  {
   "cell_type": "code",
   "execution_count": null,
   "id": "ed2338a3-4273-4580-b471-bb838f18ed3d",
   "metadata": {},
   "outputs": [],
   "source": [
    "average_horse = data[\"horsepower\"].astype(\"float\").mean(axis=0)\n",
    "print(\"the average of horsepower is: \", average_horse)"
   ]
  },
  {
   "cell_type": "code",
   "execution_count": null,
   "id": "2a9cdebf-4694-4576-a887-cf1b256289eb",
   "metadata": {},
   "outputs": [],
   "source": [
    "data[\"horsepower\"].replace(np.nan, average_horse, inplace = True)"
   ]
  },
  {
   "cell_type": "code",
   "execution_count": null,
   "id": "34ba4ba6-0f8c-4dbe-94c6-a39df098e5bb",
   "metadata": {},
   "outputs": [],
   "source": [
    "data[\"horsepower\"].isnull().sum()"
   ]
  },
  {
   "cell_type": "code",
   "execution_count": null,
   "id": "ab72d1c6-5742-490c-b209-f58843523803",
   "metadata": {},
   "outputs": [],
   "source": [
    "data.columns[data.isna().any()].tolist()"
   ]
  },
  {
   "cell_type": "code",
   "execution_count": null,
   "id": "fed55d5e-2704-410c-b3da-d225106adaa6",
   "metadata": {},
   "outputs": [],
   "source": [
    "average_bore = data[\"bore\"].astype(\"float\").mean(axis=0)\n",
    "print(\"the average of bore is: \", average_bore)\n"
   ]
  },
  {
   "cell_type": "code",
   "execution_count": null,
   "id": "3d84b3db-99b2-4a28-9372-d2c8f1648aa1",
   "metadata": {},
   "outputs": [],
   "source": [
    "average_peak = data[\"peak-rpm\"].astype(\"float\").mean(axis=0)\n",
    "print(\"the average of peak-rpm is: \", average_peak)"
   ]
  },
  {
   "cell_type": "code",
   "execution_count": null,
   "id": "1eae8091-3ff8-4b73-9ede-283f318b8ec4",
   "metadata": {},
   "outputs": [],
   "source": [
    "data[\"peak-rpm\"].replace(np.nan,average_peak, inplace = True)"
   ]
  },
  {
   "cell_type": "code",
   "execution_count": null,
   "id": "25dab308-6767-430d-8f08-bbb86b989462",
   "metadata": {},
   "outputs": [],
   "source": [
    "data[\"bore\"].replace(np.nan,average_bore, inplace = True)"
   ]
  },
  {
   "cell_type": "code",
   "execution_count": null,
   "id": "97a330e5-d77d-40e6-882b-d2a32f054775",
   "metadata": {},
   "outputs": [],
   "source": [
    "data.columns[data.isna().any()].tolist()"
   ]
  },
  {
   "cell_type": "code",
   "execution_count": null,
   "id": "8cbcf6f3-10e1-4133-a1dd-79f7e7ee3e93",
   "metadata": {},
   "outputs": [],
   "source": [
    "data.dropna(subset=[\"price\"], axis=0, inplace=True)"
   ]
  },
  {
   "cell_type": "code",
   "execution_count": null,
   "id": "48ef8be8-e359-467e-b82e-ebbad45446b9",
   "metadata": {
    "tags": []
   },
   "outputs": [],
   "source": [
    "data.isnull().sum()"
   ]
  },
  {
   "cell_type": "code",
   "execution_count": null,
   "id": "7e3c50b8-e35c-4ec4-9587-b0ac178036b6",
   "metadata": {},
   "outputs": [],
   "source": [
    "# reset index, because we droped two rows\n",
    "data.reset_index(drop=True, inplace = True)"
   ]
  },
  {
   "cell_type": "code",
   "execution_count": null,
   "id": "6d621191-5d50-4fd6-b79c-6e937a2b27e2",
   "metadata": {
    "tags": []
   },
   "outputs": [],
   "source": [
    "display(data)"
   ]
  },
  {
   "cell_type": "code",
   "execution_count": null,
   "id": "f100fa2e-041c-42ce-8c9f-427f27b6c842",
   "metadata": {
    "tags": []
   },
   "outputs": [],
   "source": [
    "data.info()"
   ]
  },
  {
   "cell_type": "code",
   "execution_count": null,
   "id": "c673251b-a16d-42e0-be03-a3a6f457d453",
   "metadata": {},
   "outputs": [],
   "source": [
    "data[[\"bore\", \"stroke\"]]=data[[\"bore\", \"stroke\"]].astype(\"float\")\n",
    "data[[\"normalized-losses\"]] = data[[\"normalized-losses\"]].astype(\"int\")\n",
    "data[[\"price\"]] = data[[\"price\"]].astype(\"float\")\n",
    "data[[\"peak-rpm\"]] = data[[\"peak-rpm\"]].astype(\"float\")\n"
   ]
  },
  {
   "cell_type": "code",
   "execution_count": null,
   "id": "fe264755-8da5-4566-be7a-7bf1054c908d",
   "metadata": {},
   "outputs": [],
   "source": [
    "data.dtypes"
   ]
  },
  {
   "cell_type": "markdown",
   "id": "5aa9d6b9-2778-44ba-885d-3e5570e05d86",
   "metadata": {},
   "source": [
    "Data Standardization\n",
    "Data is usually collected from different agencies in different formats. (Data standardization is also a term for a particular type of data normalization where we subtract the mean and divide by the standard deviation.)\n",
    "\n",
    "What is standardization?\n",
    "\n",
    "Standardization is the process of transforming data into a common format, allowing the researcher to make the meaningful comparison.\n",
    "\n",
    "Example\n",
    "\n",
    "Transform mpg to L/100km:\n",
    "\n",
    "In our dataset, the fuel consumption columns \"city-mpg\" and \"highway-mpg\" are represented by mpg (miles per gallon) unit. Assume we are developing an application in a country that accepts the fuel consumption with L/100km standard.\n",
    "\n",
    "We will need to apply data transformation to transform mpg into L/100km."
   ]
  },
  {
   "cell_type": "code",
   "execution_count": null,
   "id": "169bdaa0-4c88-4aac-bd38-ef2d8caf95b2",
   "metadata": {
    "tags": []
   },
   "outputs": [],
   "source": [
    "headers"
   ]
  },
  {
   "cell_type": "code",
   "execution_count": null,
   "id": "65e9fb52-7a20-4f58-a261-896266dbf978",
   "metadata": {},
   "outputs": [],
   "source": [
    "# Convert mpg to L/100km by mathematical operation (235 divided by mpg)\n",
    "data['city-L/100km'] = 235/data[\"city-mpg\"]\n"
   ]
  },
  {
   "cell_type": "code",
   "execution_count": null,
   "id": "f309c6a8-597f-4424-a1ab-7736302667ac",
   "metadata": {},
   "outputs": [],
   "source": [
    "data.head(5)"
   ]
  },
  {
   "cell_type": "code",
   "execution_count": null,
   "id": "f016fa22-059c-4d6f-9a26-3aaa79b32422",
   "metadata": {},
   "outputs": [],
   "source": [
    "# Write your code below and press Shift+Enter to execute \n",
    "# transform mpg to L/100km by mathematical operation (235 divided by mpg)\n",
    "data[\"highway-L/100km\"] = 235/data[\"highway-mpg\"]"
   ]
  },
  {
   "cell_type": "code",
   "execution_count": null,
   "id": "e0dfd58a-a24a-489a-a6f5-0cba00f4546f",
   "metadata": {},
   "outputs": [],
   "source": [
    "data.head(5)"
   ]
  },
  {
   "cell_type": "code",
   "execution_count": null,
   "id": "acea6f02-722a-4bd9-b2be-49577e4f688e",
   "metadata": {},
   "outputs": [],
   "source": [
    "data.rename(columns={ '\"highway-L/100km\"':'highway-mpg'}, inplace = True)"
   ]
  },
  {
   "cell_type": "code",
   "execution_count": null,
   "id": "275d3da3-c9e3-484e-b70d-b6eba8fee383",
   "metadata": {},
   "outputs": [],
   "source": [
    "data.head(5)"
   ]
  },
  {
   "cell_type": "code",
   "execution_count": null,
   "id": "f86455fe-cf28-48ad-96c7-14476b32a49f",
   "metadata": {},
   "outputs": [],
   "source": [
    "\n",
    "# transform mpg to L/100km by mathematical operation (235 divided by mpg)\n",
    "data[\"highway-mpg\"] = 235/data[\"highway-mpg\"]\n",
    "\n",
    "# rename column name from \"highway-mpg\" to \"highway-L/100km\"\n",
    "data.rename(columns={'\"highway-mpg\"':'highway-L/100km'}, inplace=True)\n",
    "\n",
    "# check your transformed data \n",
    "data.head()"
   ]
  },
  {
   "cell_type": "code",
   "execution_count": null,
   "id": "1b6f63d8-0bf9-4e7c-be06-2b6ddb0398f3",
   "metadata": {},
   "outputs": [],
   "source": [
    "# replace (original value) by (original value)/(maximum value)\n",
    "data['length'] = data['length']/data['length'].max()\n",
    "data['width'] = data['width']/data['width'].max()"
   ]
  },
  {
   "cell_type": "code",
   "execution_count": null,
   "id": "dd251b65-e2a6-4836-8136-733e78a59ee5",
   "metadata": {},
   "outputs": [],
   "source": [
    "M = data['length'].min()"
   ]
  },
  {
   "cell_type": "code",
   "execution_count": null,
   "id": "b24d3476-af81-4c64-9d3d-9d7736c58b39",
   "metadata": {},
   "outputs": [],
   "source": [
    "Max = data['length'].max()"
   ]
  },
  {
   "cell_type": "code",
   "execution_count": null,
   "id": "3ccb8f7f-033a-4195-9884-75b8364aa555",
   "metadata": {},
   "outputs": [],
   "source": [
    "Ans = M/Max"
   ]
  },
  {
   "cell_type": "code",
   "execution_count": null,
   "id": "ba64ab72-9104-4c1d-9778-8233845a547f",
   "metadata": {},
   "outputs": [],
   "source": [
    "print(Ans)"
   ]
  },
  {
   "cell_type": "code",
   "execution_count": null,
   "id": "cf793824-75a4-499d-80cd-d3de6fb8ebb0",
   "metadata": {
    "tags": []
   },
   "outputs": [],
   "source": [
    "data['height'] = data['height']/data['height'].max()\n",
    "print(data['height'])"
   ]
  },
  {
   "cell_type": "code",
   "execution_count": null,
   "id": "42f8495d-99d3-440a-b5d2-4038a11bcacb",
   "metadata": {},
   "outputs": [],
   "source": [
    "data[[\"length\", \"width\",\"height\"]].head()"
   ]
  },
  {
   "cell_type": "code",
   "execution_count": null,
   "id": "87240ae0-9c0b-4402-882a-dfeda47281a4",
   "metadata": {},
   "outputs": [],
   "source": [
    "data.iloc[:,[10,11,12]].head()"
   ]
  },
  {
   "cell_type": "code",
   "execution_count": null,
   "id": "ca1c6b42-5333-4ed3-aef5-59bfb2f745b7",
   "metadata": {
    "tags": []
   },
   "outputs": [],
   "source": [
    "(data[\"horsepower\"]).describe()"
   ]
  },
  {
   "cell_type": "code",
   "execution_count": null,
   "id": "326dba24-48d3-473c-be1c-468037ebc552",
   "metadata": {
    "tags": []
   },
   "outputs": [],
   "source": [
    "(data[\"horsepower\"]).info()"
   ]
  },
  {
   "cell_type": "code",
   "execution_count": null,
   "id": "18ec2469-9699-4b70-be8b-c63f5a6ceac3",
   "metadata": {},
   "outputs": [],
   "source": []
  }
 ],
 "metadata": {
  "kernelspec": {
   "display_name": "Python 3 (ipykernel)",
   "language": "python",
   "name": "python3"
  },
  "language_info": {
   "codemirror_mode": {
    "name": "ipython",
    "version": 3
   },
   "file_extension": ".py",
   "mimetype": "text/x-python",
   "name": "python",
   "nbconvert_exporter": "python",
   "pygments_lexer": "ipython3",
   "version": "3.10.9"
  }
 },
 "nbformat": 4,
 "nbformat_minor": 5
}
