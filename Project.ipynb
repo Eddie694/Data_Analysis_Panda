{
 "cells": [
  {
   "cell_type": "markdown",
   "id": "31f53aba-b544-461d-94bf-c8b38c36eb67",
   "metadata": {},
   "source": [
    "<h1>Introduction</h1>\n",
    "\n",
    "<h3>Student Mental health</h3>\n",
    "\n",
    "<p>A STATISTICAL RESEARCH ON THE EFFECTS OF MENTAL HEALTH ON STUDENTS’ CGPA</p>\n",
    "\n",
    "\n",
    "<h4>Objectives</h4>\n",
    "<ul>\n",
    "    <li>The objective of this research is to determin the effect of </li>\n",
    "\n",
    "</ul>\n"
   ]
  },
  {
   "cell_type": "markdown",
   "id": "5e5aea25-2f8e-444b-bce1-cd0b50cb9fd0",
   "metadata": {},
   "source": [
    "<h3>Table of Contents</h3>\n",
    "\n",
    "<div style=\"background-color:#ADD8E6 ;\">\n",
    "    <div style=\"padding:4px\">\n",
    "        <ol>\n",
    "            <li><a href =\"\">Data Acquisation</a></li>\n",
    "            <li><a href =\"\">Basic Insight of Dataset</a></li>\n",
    "        </ol>\n",
    "    </div>   \n",
    "</div>\n",
    "\n",
    "\n"
   ]
  },
  {
   "cell_type": "markdown",
   "id": "646e65b5-aeec-4978-b2de-7bf316babc3e",
   "metadata": {},
   "source": [
    "<h1>About Dataset</h1>\n",
    "<h4>A STATISTICAL RESEARCH ON THE EFFECTS OF MENTAL HEALTH ON STUDENTS’ CGPA dataset</h4>\n",
    "<p>This Data set was collected by a survey conducted by Google forms from University student in order to examine their current academic situation and mental health.</p>\n",
    "<ul>\n",
    "    <li>Data Source: <a href = \"https://www.kaggle.com/datasets/shariful07/student-mental-health/data\">kaggle.com</a></li>\n",
    "    <li>Data Source: CSV</li>\n",
    "</ul>"
   ]
  },
  {
   "cell_type": "markdown",
   "id": "da05dd49-2f9b-42fa-839e-07a0b38100cb",
   "metadata": {},
   "source": [
    "<h3>Basic Data Insight<h3>"
   ]
  },
  {
   "cell_type": "code",
   "execution_count": 154,
   "id": "57aaf98d-5773-410b-81e0-fdc8a758aee6",
   "metadata": {},
   "outputs": [],
   "source": [
    "#importing pandas library\n",
    "\n",
    "import pandas as pd\n",
    "import numpy as np\n",
    "import matplotlib.pylab as plt\n",
    "import seaborn as sns\n",
    "\n",
    "#importing dataset from pc\n",
    "#path = \"C:/Users/NEMIS/Desktop/Anaconda/Student_Mental_health.csv\"\n",
    "df = pd.read_csv(\"Student_Mental_health.csv\")"
   ]
  },
  {
   "cell_type": "code",
   "execution_count": 155,
   "id": "b8081ba1-7e7b-4ea2-a8a5-d3b16349ac73",
   "metadata": {},
   "outputs": [
    {
     "data": {
      "text/html": [
       "<div>\n",
       "<style scoped>\n",
       "    .dataframe tbody tr th:only-of-type {\n",
       "        vertical-align: middle;\n",
       "    }\n",
       "\n",
       "    .dataframe tbody tr th {\n",
       "        vertical-align: top;\n",
       "    }\n",
       "\n",
       "    .dataframe thead th {\n",
       "        text-align: right;\n",
       "    }\n",
       "</style>\n",
       "<table border=\"1\" class=\"dataframe\">\n",
       "  <thead>\n",
       "    <tr style=\"text-align: right;\">\n",
       "      <th></th>\n",
       "      <th>Timestamp</th>\n",
       "      <th>Choose your gender</th>\n",
       "      <th>Age</th>\n",
       "      <th>What is your course?</th>\n",
       "      <th>Your current year of Study</th>\n",
       "      <th>What is your CGPA?</th>\n",
       "      <th>Marital status</th>\n",
       "      <th>Do you have Depression?</th>\n",
       "      <th>Do you have Anxiety?</th>\n",
       "      <th>Do you have Panic attack?</th>\n",
       "      <th>Did you seek any specialist for a treatment?</th>\n",
       "    </tr>\n",
       "  </thead>\n",
       "  <tbody>\n",
       "    <tr>\n",
       "      <th>0</th>\n",
       "      <td>08/07/2020 12:02</td>\n",
       "      <td>Female</td>\n",
       "      <td>18.0</td>\n",
       "      <td>Engineering</td>\n",
       "      <td>year 1</td>\n",
       "      <td>3.00 - 3.49</td>\n",
       "      <td>No</td>\n",
       "      <td>Yes</td>\n",
       "      <td>No</td>\n",
       "      <td>Yes</td>\n",
       "      <td>No</td>\n",
       "    </tr>\n",
       "    <tr>\n",
       "      <th>1</th>\n",
       "      <td>08/07/2020 12:04</td>\n",
       "      <td>Male</td>\n",
       "      <td>21.0</td>\n",
       "      <td>Islamic education</td>\n",
       "      <td>year 2</td>\n",
       "      <td>3.00 - 3.49</td>\n",
       "      <td>No</td>\n",
       "      <td>No</td>\n",
       "      <td>Yes</td>\n",
       "      <td>No</td>\n",
       "      <td>No</td>\n",
       "    </tr>\n",
       "    <tr>\n",
       "      <th>2</th>\n",
       "      <td>08/07/2020 12:05</td>\n",
       "      <td>Male</td>\n",
       "      <td>19.0</td>\n",
       "      <td>BIT</td>\n",
       "      <td>Year 1</td>\n",
       "      <td>3.00 - 3.49</td>\n",
       "      <td>No</td>\n",
       "      <td>Yes</td>\n",
       "      <td>Yes</td>\n",
       "      <td>Yes</td>\n",
       "      <td>No</td>\n",
       "    </tr>\n",
       "    <tr>\n",
       "      <th>3</th>\n",
       "      <td>08/07/2020 12:06</td>\n",
       "      <td>Female</td>\n",
       "      <td>22.0</td>\n",
       "      <td>Laws</td>\n",
       "      <td>year 3</td>\n",
       "      <td>3.00 - 3.49</td>\n",
       "      <td>Yes</td>\n",
       "      <td>Yes</td>\n",
       "      <td>No</td>\n",
       "      <td>No</td>\n",
       "      <td>No</td>\n",
       "    </tr>\n",
       "    <tr>\n",
       "      <th>4</th>\n",
       "      <td>08/07/2020 12:13</td>\n",
       "      <td>Male</td>\n",
       "      <td>23.0</td>\n",
       "      <td>Mathemathics</td>\n",
       "      <td>year 4</td>\n",
       "      <td>3.00 - 3.49</td>\n",
       "      <td>No</td>\n",
       "      <td>No</td>\n",
       "      <td>No</td>\n",
       "      <td>No</td>\n",
       "      <td>No</td>\n",
       "    </tr>\n",
       "    <tr>\n",
       "      <th>5</th>\n",
       "      <td>08/07/2020 12:31</td>\n",
       "      <td>Male</td>\n",
       "      <td>19.0</td>\n",
       "      <td>Engineering</td>\n",
       "      <td>Year 2</td>\n",
       "      <td>3.50 - 4.00</td>\n",
       "      <td>No</td>\n",
       "      <td>No</td>\n",
       "      <td>No</td>\n",
       "      <td>Yes</td>\n",
       "      <td>No</td>\n",
       "    </tr>\n",
       "    <tr>\n",
       "      <th>6</th>\n",
       "      <td>08/07/2020 12:32</td>\n",
       "      <td>Female</td>\n",
       "      <td>23.0</td>\n",
       "      <td>Pendidikan islam</td>\n",
       "      <td>year 2</td>\n",
       "      <td>3.50 - 4.00</td>\n",
       "      <td>Yes</td>\n",
       "      <td>Yes</td>\n",
       "      <td>No</td>\n",
       "      <td>Yes</td>\n",
       "      <td>No</td>\n",
       "    </tr>\n",
       "    <tr>\n",
       "      <th>7</th>\n",
       "      <td>08/07/2020 12:33</td>\n",
       "      <td>Female</td>\n",
       "      <td>18.0</td>\n",
       "      <td>BCS</td>\n",
       "      <td>year 1</td>\n",
       "      <td>3.50 - 4.00</td>\n",
       "      <td>No</td>\n",
       "      <td>No</td>\n",
       "      <td>Yes</td>\n",
       "      <td>No</td>\n",
       "      <td>No</td>\n",
       "    </tr>\n",
       "    <tr>\n",
       "      <th>8</th>\n",
       "      <td>08/07/2020 12:35</td>\n",
       "      <td>Female</td>\n",
       "      <td>19.0</td>\n",
       "      <td>Human Resources</td>\n",
       "      <td>Year 2</td>\n",
       "      <td>2.50 - 2.99</td>\n",
       "      <td>No</td>\n",
       "      <td>No</td>\n",
       "      <td>No</td>\n",
       "      <td>No</td>\n",
       "      <td>No</td>\n",
       "    </tr>\n",
       "    <tr>\n",
       "      <th>9</th>\n",
       "      <td>08/07/2020 12:39</td>\n",
       "      <td>Male</td>\n",
       "      <td>18.0</td>\n",
       "      <td>Irkhs</td>\n",
       "      <td>year 1</td>\n",
       "      <td>3.50 - 4.00</td>\n",
       "      <td>No</td>\n",
       "      <td>No</td>\n",
       "      <td>Yes</td>\n",
       "      <td>Yes</td>\n",
       "      <td>No</td>\n",
       "    </tr>\n",
       "  </tbody>\n",
       "</table>\n",
       "</div>"
      ],
      "text/plain": [
       "          Timestamp Choose your gender   Age What is your course?  \\\n",
       "0  08/07/2020 12:02             Female  18.0          Engineering   \n",
       "1  08/07/2020 12:04               Male  21.0    Islamic education   \n",
       "2  08/07/2020 12:05               Male  19.0                  BIT   \n",
       "3  08/07/2020 12:06             Female  22.0                 Laws   \n",
       "4  08/07/2020 12:13               Male  23.0         Mathemathics   \n",
       "5  08/07/2020 12:31               Male  19.0          Engineering   \n",
       "6  08/07/2020 12:32             Female  23.0     Pendidikan islam   \n",
       "7  08/07/2020 12:33             Female  18.0                  BCS   \n",
       "8  08/07/2020 12:35             Female  19.0      Human Resources   \n",
       "9  08/07/2020 12:39               Male  18.0                Irkhs   \n",
       "\n",
       "  Your current year of Study What is your CGPA? Marital status  \\\n",
       "0                     year 1        3.00 - 3.49             No   \n",
       "1                     year 2        3.00 - 3.49             No   \n",
       "2                     Year 1        3.00 - 3.49             No   \n",
       "3                     year 3        3.00 - 3.49            Yes   \n",
       "4                     year 4        3.00 - 3.49             No   \n",
       "5                     Year 2        3.50 - 4.00             No   \n",
       "6                     year 2        3.50 - 4.00            Yes   \n",
       "7                     year 1        3.50 - 4.00             No   \n",
       "8                     Year 2        2.50 - 2.99             No   \n",
       "9                     year 1        3.50 - 4.00             No   \n",
       "\n",
       "  Do you have Depression? Do you have Anxiety? Do you have Panic attack?  \\\n",
       "0                     Yes                   No                       Yes   \n",
       "1                      No                  Yes                        No   \n",
       "2                     Yes                  Yes                       Yes   \n",
       "3                     Yes                   No                        No   \n",
       "4                      No                   No                        No   \n",
       "5                      No                   No                       Yes   \n",
       "6                     Yes                   No                       Yes   \n",
       "7                      No                  Yes                        No   \n",
       "8                      No                   No                        No   \n",
       "9                      No                  Yes                       Yes   \n",
       "\n",
       "  Did you seek any specialist for a treatment?  \n",
       "0                                           No  \n",
       "1                                           No  \n",
       "2                                           No  \n",
       "3                                           No  \n",
       "4                                           No  \n",
       "5                                           No  \n",
       "6                                           No  \n",
       "7                                           No  \n",
       "8                                           No  \n",
       "9                                           No  "
      ]
     },
     "execution_count": 155,
     "metadata": {},
     "output_type": "execute_result"
    }
   ],
   "source": [
    "#displaying the first 10 \n",
    "\n",
    "df.head(10)"
   ]
  },
  {
   "cell_type": "code",
   "execution_count": 156,
   "id": "88e26703-b315-4a16-a857-64acd83a4204",
   "metadata": {},
   "outputs": [
    {
     "name": "stdout",
     "output_type": "stream",
     "text": [
      "<class 'pandas.core.frame.DataFrame'>\n",
      "RangeIndex: 101 entries, 0 to 100\n",
      "Data columns (total 11 columns):\n",
      " #   Column                                        Non-Null Count  Dtype  \n",
      "---  ------                                        --------------  -----  \n",
      " 0   Timestamp                                     101 non-null    object \n",
      " 1   Choose your gender                            101 non-null    object \n",
      " 2   Age                                           100 non-null    float64\n",
      " 3   What is your course?                          101 non-null    object \n",
      " 4   Your current year of Study                    101 non-null    object \n",
      " 5   What is your CGPA?                            101 non-null    object \n",
      " 6   Marital status                                101 non-null    object \n",
      " 7   Do you have Depression?                       101 non-null    object \n",
      " 8   Do you have Anxiety?                          101 non-null    object \n",
      " 9   Do you have Panic attack?                     101 non-null    object \n",
      " 10  Did you seek any specialist for a treatment?  101 non-null    object \n",
      "dtypes: float64(1), object(10)\n",
      "memory usage: 8.8+ KB\n"
     ]
    }
   ],
   "source": [
    "df.info()\n"
   ]
  },
  {
   "cell_type": "markdown",
   "id": "679aab59-5ba3-4811-93b6-86ba19d71e29",
   "metadata": {},
   "source": [
    "\n",
    "<h5><b>Header Names</b></h5>\n",
    "    <ul>\n",
    "        <li>Time--------------------Timestamp </li>\n",
    "        <li>Gender------------------Gender </li>\n",
    "        <li>Age---------------------Age </li>\n",
    "        <li>Course------------------What is your course? </li>\n",
    "        <li>Current_year------------Your current year of Study </li>\n",
    "        <li>CGPA--------------------What is your CGPA?</li>\n",
    "        <li>Marital_status----------Marital status</li>\n",
    "        <li>Depression--------------Do you have Depression?</li>\n",
    "        <li>Anxiety-----------------Do you have Anxiety?</li>\n",
    "        <li>Panic_attack------------Do you have Panic attack?</li>\n",
    "        <li>Seek_special_trt--------Did you seek any specialist for a treatment?</li>\n"
   ]
  },
  {
   "cell_type": "code",
   "execution_count": 157,
   "id": "c08cd28b-ed27-426e-b494-28db24d6564f",
   "metadata": {},
   "outputs": [],
   "source": [
    "#declearing header_name\n",
    "\n",
    "header_name = [\"Time\", \"Gender\", \"Age\", \"Course\", \"Current_year\", \"CGPA\", \n",
    "               \"Marital_status\", \"Depression\", \"Anxiety\", \"Panic_attact\", \"Seek_special_trt\"]"
   ]
  },
  {
   "cell_type": "code",
   "execution_count": 158,
   "id": "13335b80-5b25-492b-b2ec-3d3a7070c5a8",
   "metadata": {},
   "outputs": [
    {
     "data": {
      "text/html": [
       "<div>\n",
       "<style scoped>\n",
       "    .dataframe tbody tr th:only-of-type {\n",
       "        vertical-align: middle;\n",
       "    }\n",
       "\n",
       "    .dataframe tbody tr th {\n",
       "        vertical-align: top;\n",
       "    }\n",
       "\n",
       "    .dataframe thead th {\n",
       "        text-align: right;\n",
       "    }\n",
       "</style>\n",
       "<table border=\"1\" class=\"dataframe\">\n",
       "  <thead>\n",
       "    <tr style=\"text-align: right;\">\n",
       "      <th></th>\n",
       "      <th>Time</th>\n",
       "      <th>Gender</th>\n",
       "      <th>Age</th>\n",
       "      <th>Course</th>\n",
       "      <th>Current_year</th>\n",
       "      <th>CGPA</th>\n",
       "      <th>Marital_status</th>\n",
       "      <th>Depression</th>\n",
       "      <th>Anxiety</th>\n",
       "      <th>Panic_attact</th>\n",
       "      <th>Seek_special_trt</th>\n",
       "    </tr>\n",
       "  </thead>\n",
       "  <tbody>\n",
       "    <tr>\n",
       "      <th>0</th>\n",
       "      <td>08/07/2020 12:02</td>\n",
       "      <td>Female</td>\n",
       "      <td>18.0</td>\n",
       "      <td>Engineering</td>\n",
       "      <td>year 1</td>\n",
       "      <td>3.00 - 3.49</td>\n",
       "      <td>No</td>\n",
       "      <td>Yes</td>\n",
       "      <td>No</td>\n",
       "      <td>Yes</td>\n",
       "      <td>No</td>\n",
       "    </tr>\n",
       "    <tr>\n",
       "      <th>1</th>\n",
       "      <td>08/07/2020 12:04</td>\n",
       "      <td>Male</td>\n",
       "      <td>21.0</td>\n",
       "      <td>Islamic education</td>\n",
       "      <td>year 2</td>\n",
       "      <td>3.00 - 3.49</td>\n",
       "      <td>No</td>\n",
       "      <td>No</td>\n",
       "      <td>Yes</td>\n",
       "      <td>No</td>\n",
       "      <td>No</td>\n",
       "    </tr>\n",
       "    <tr>\n",
       "      <th>2</th>\n",
       "      <td>08/07/2020 12:05</td>\n",
       "      <td>Male</td>\n",
       "      <td>19.0</td>\n",
       "      <td>BIT</td>\n",
       "      <td>Year 1</td>\n",
       "      <td>3.00 - 3.49</td>\n",
       "      <td>No</td>\n",
       "      <td>Yes</td>\n",
       "      <td>Yes</td>\n",
       "      <td>Yes</td>\n",
       "      <td>No</td>\n",
       "    </tr>\n",
       "    <tr>\n",
       "      <th>3</th>\n",
       "      <td>08/07/2020 12:06</td>\n",
       "      <td>Female</td>\n",
       "      <td>22.0</td>\n",
       "      <td>Laws</td>\n",
       "      <td>year 3</td>\n",
       "      <td>3.00 - 3.49</td>\n",
       "      <td>Yes</td>\n",
       "      <td>Yes</td>\n",
       "      <td>No</td>\n",
       "      <td>No</td>\n",
       "      <td>No</td>\n",
       "    </tr>\n",
       "    <tr>\n",
       "      <th>4</th>\n",
       "      <td>08/07/2020 12:13</td>\n",
       "      <td>Male</td>\n",
       "      <td>23.0</td>\n",
       "      <td>Mathemathics</td>\n",
       "      <td>year 4</td>\n",
       "      <td>3.00 - 3.49</td>\n",
       "      <td>No</td>\n",
       "      <td>No</td>\n",
       "      <td>No</td>\n",
       "      <td>No</td>\n",
       "      <td>No</td>\n",
       "    </tr>\n",
       "    <tr>\n",
       "      <th>5</th>\n",
       "      <td>08/07/2020 12:31</td>\n",
       "      <td>Male</td>\n",
       "      <td>19.0</td>\n",
       "      <td>Engineering</td>\n",
       "      <td>Year 2</td>\n",
       "      <td>3.50 - 4.00</td>\n",
       "      <td>No</td>\n",
       "      <td>No</td>\n",
       "      <td>No</td>\n",
       "      <td>Yes</td>\n",
       "      <td>No</td>\n",
       "    </tr>\n",
       "    <tr>\n",
       "      <th>6</th>\n",
       "      <td>08/07/2020 12:32</td>\n",
       "      <td>Female</td>\n",
       "      <td>23.0</td>\n",
       "      <td>Pendidikan islam</td>\n",
       "      <td>year 2</td>\n",
       "      <td>3.50 - 4.00</td>\n",
       "      <td>Yes</td>\n",
       "      <td>Yes</td>\n",
       "      <td>No</td>\n",
       "      <td>Yes</td>\n",
       "      <td>No</td>\n",
       "    </tr>\n",
       "    <tr>\n",
       "      <th>7</th>\n",
       "      <td>08/07/2020 12:33</td>\n",
       "      <td>Female</td>\n",
       "      <td>18.0</td>\n",
       "      <td>BCS</td>\n",
       "      <td>year 1</td>\n",
       "      <td>3.50 - 4.00</td>\n",
       "      <td>No</td>\n",
       "      <td>No</td>\n",
       "      <td>Yes</td>\n",
       "      <td>No</td>\n",
       "      <td>No</td>\n",
       "    </tr>\n",
       "    <tr>\n",
       "      <th>8</th>\n",
       "      <td>08/07/2020 12:35</td>\n",
       "      <td>Female</td>\n",
       "      <td>19.0</td>\n",
       "      <td>Human Resources</td>\n",
       "      <td>Year 2</td>\n",
       "      <td>2.50 - 2.99</td>\n",
       "      <td>No</td>\n",
       "      <td>No</td>\n",
       "      <td>No</td>\n",
       "      <td>No</td>\n",
       "      <td>No</td>\n",
       "    </tr>\n",
       "    <tr>\n",
       "      <th>9</th>\n",
       "      <td>08/07/2020 12:39</td>\n",
       "      <td>Male</td>\n",
       "      <td>18.0</td>\n",
       "      <td>Irkhs</td>\n",
       "      <td>year 1</td>\n",
       "      <td>3.50 - 4.00</td>\n",
       "      <td>No</td>\n",
       "      <td>No</td>\n",
       "      <td>Yes</td>\n",
       "      <td>Yes</td>\n",
       "      <td>No</td>\n",
       "    </tr>\n",
       "  </tbody>\n",
       "</table>\n",
       "</div>"
      ],
      "text/plain": [
       "               Time  Gender   Age             Course Current_year  \\\n",
       "0  08/07/2020 12:02  Female  18.0        Engineering       year 1   \n",
       "1  08/07/2020 12:04    Male  21.0  Islamic education       year 2   \n",
       "2  08/07/2020 12:05    Male  19.0                BIT       Year 1   \n",
       "3  08/07/2020 12:06  Female  22.0               Laws       year 3   \n",
       "4  08/07/2020 12:13    Male  23.0       Mathemathics       year 4   \n",
       "5  08/07/2020 12:31    Male  19.0        Engineering       Year 2   \n",
       "6  08/07/2020 12:32  Female  23.0   Pendidikan islam       year 2   \n",
       "7  08/07/2020 12:33  Female  18.0                BCS       year 1   \n",
       "8  08/07/2020 12:35  Female  19.0    Human Resources       Year 2   \n",
       "9  08/07/2020 12:39    Male  18.0              Irkhs       year 1   \n",
       "\n",
       "          CGPA Marital_status Depression Anxiety Panic_attact Seek_special_trt  \n",
       "0  3.00 - 3.49             No        Yes      No          Yes               No  \n",
       "1  3.00 - 3.49             No         No     Yes           No               No  \n",
       "2  3.00 - 3.49             No        Yes     Yes          Yes               No  \n",
       "3  3.00 - 3.49            Yes        Yes      No           No               No  \n",
       "4  3.00 - 3.49             No         No      No           No               No  \n",
       "5  3.50 - 4.00             No         No      No          Yes               No  \n",
       "6  3.50 - 4.00            Yes        Yes      No          Yes               No  \n",
       "7  3.50 - 4.00             No         No     Yes           No               No  \n",
       "8  2.50 - 2.99             No         No      No           No               No  \n",
       "9  3.50 - 4.00             No         No     Yes          Yes               No  "
      ]
     },
     "execution_count": 158,
     "metadata": {},
     "output_type": "execute_result"
    }
   ],
   "source": [
    "#rename the colume  \n",
    "df.columns = header_name\n",
    "\n",
    "df.head(10)"
   ]
  },
  {
   "cell_type": "code",
   "execution_count": 159,
   "id": "76ac7c97-af23-44a4-bb54-08492906e695",
   "metadata": {},
   "outputs": [
    {
     "data": {
      "text/html": [
       "<div>\n",
       "<style scoped>\n",
       "    .dataframe tbody tr th:only-of-type {\n",
       "        vertical-align: middle;\n",
       "    }\n",
       "\n",
       "    .dataframe tbody tr th {\n",
       "        vertical-align: top;\n",
       "    }\n",
       "\n",
       "    .dataframe thead th {\n",
       "        text-align: right;\n",
       "    }\n",
       "</style>\n",
       "<table border=\"1\" class=\"dataframe\">\n",
       "  <thead>\n",
       "    <tr style=\"text-align: right;\">\n",
       "      <th></th>\n",
       "      <th>Time</th>\n",
       "      <th>Gender</th>\n",
       "      <th>Age</th>\n",
       "      <th>Course</th>\n",
       "      <th>Current_year</th>\n",
       "      <th>CGPA</th>\n",
       "      <th>Marital_status</th>\n",
       "      <th>Depression</th>\n",
       "      <th>Anxiety</th>\n",
       "      <th>Panic_attact</th>\n",
       "      <th>Seek_special_trt</th>\n",
       "    </tr>\n",
       "  </thead>\n",
       "  <tbody>\n",
       "    <tr>\n",
       "      <th>0</th>\n",
       "      <td>False</td>\n",
       "      <td>False</td>\n",
       "      <td>False</td>\n",
       "      <td>False</td>\n",
       "      <td>False</td>\n",
       "      <td>False</td>\n",
       "      <td>False</td>\n",
       "      <td>False</td>\n",
       "      <td>False</td>\n",
       "      <td>False</td>\n",
       "      <td>False</td>\n",
       "    </tr>\n",
       "    <tr>\n",
       "      <th>1</th>\n",
       "      <td>False</td>\n",
       "      <td>False</td>\n",
       "      <td>False</td>\n",
       "      <td>False</td>\n",
       "      <td>False</td>\n",
       "      <td>False</td>\n",
       "      <td>False</td>\n",
       "      <td>False</td>\n",
       "      <td>False</td>\n",
       "      <td>False</td>\n",
       "      <td>False</td>\n",
       "    </tr>\n",
       "    <tr>\n",
       "      <th>2</th>\n",
       "      <td>False</td>\n",
       "      <td>False</td>\n",
       "      <td>False</td>\n",
       "      <td>False</td>\n",
       "      <td>False</td>\n",
       "      <td>False</td>\n",
       "      <td>False</td>\n",
       "      <td>False</td>\n",
       "      <td>False</td>\n",
       "      <td>False</td>\n",
       "      <td>False</td>\n",
       "    </tr>\n",
       "    <tr>\n",
       "      <th>3</th>\n",
       "      <td>False</td>\n",
       "      <td>False</td>\n",
       "      <td>False</td>\n",
       "      <td>False</td>\n",
       "      <td>False</td>\n",
       "      <td>False</td>\n",
       "      <td>False</td>\n",
       "      <td>False</td>\n",
       "      <td>False</td>\n",
       "      <td>False</td>\n",
       "      <td>False</td>\n",
       "    </tr>\n",
       "    <tr>\n",
       "      <th>4</th>\n",
       "      <td>False</td>\n",
       "      <td>False</td>\n",
       "      <td>False</td>\n",
       "      <td>False</td>\n",
       "      <td>False</td>\n",
       "      <td>False</td>\n",
       "      <td>False</td>\n",
       "      <td>False</td>\n",
       "      <td>False</td>\n",
       "      <td>False</td>\n",
       "      <td>False</td>\n",
       "    </tr>\n",
       "    <tr>\n",
       "      <th>5</th>\n",
       "      <td>False</td>\n",
       "      <td>False</td>\n",
       "      <td>False</td>\n",
       "      <td>False</td>\n",
       "      <td>False</td>\n",
       "      <td>False</td>\n",
       "      <td>False</td>\n",
       "      <td>False</td>\n",
       "      <td>False</td>\n",
       "      <td>False</td>\n",
       "      <td>False</td>\n",
       "    </tr>\n",
       "    <tr>\n",
       "      <th>6</th>\n",
       "      <td>False</td>\n",
       "      <td>False</td>\n",
       "      <td>False</td>\n",
       "      <td>False</td>\n",
       "      <td>False</td>\n",
       "      <td>False</td>\n",
       "      <td>False</td>\n",
       "      <td>False</td>\n",
       "      <td>False</td>\n",
       "      <td>False</td>\n",
       "      <td>False</td>\n",
       "    </tr>\n",
       "    <tr>\n",
       "      <th>7</th>\n",
       "      <td>False</td>\n",
       "      <td>False</td>\n",
       "      <td>False</td>\n",
       "      <td>False</td>\n",
       "      <td>False</td>\n",
       "      <td>False</td>\n",
       "      <td>False</td>\n",
       "      <td>False</td>\n",
       "      <td>False</td>\n",
       "      <td>False</td>\n",
       "      <td>False</td>\n",
       "    </tr>\n",
       "    <tr>\n",
       "      <th>8</th>\n",
       "      <td>False</td>\n",
       "      <td>False</td>\n",
       "      <td>False</td>\n",
       "      <td>False</td>\n",
       "      <td>False</td>\n",
       "      <td>False</td>\n",
       "      <td>False</td>\n",
       "      <td>False</td>\n",
       "      <td>False</td>\n",
       "      <td>False</td>\n",
       "      <td>False</td>\n",
       "    </tr>\n",
       "    <tr>\n",
       "      <th>9</th>\n",
       "      <td>False</td>\n",
       "      <td>False</td>\n",
       "      <td>False</td>\n",
       "      <td>False</td>\n",
       "      <td>False</td>\n",
       "      <td>False</td>\n",
       "      <td>False</td>\n",
       "      <td>False</td>\n",
       "      <td>False</td>\n",
       "      <td>False</td>\n",
       "      <td>False</td>\n",
       "    </tr>\n",
       "  </tbody>\n",
       "</table>\n",
       "</div>"
      ],
      "text/plain": [
       "    Time  Gender    Age  Course  Current_year   CGPA  Marital_status  \\\n",
       "0  False   False  False   False         False  False           False   \n",
       "1  False   False  False   False         False  False           False   \n",
       "2  False   False  False   False         False  False           False   \n",
       "3  False   False  False   False         False  False           False   \n",
       "4  False   False  False   False         False  False           False   \n",
       "5  False   False  False   False         False  False           False   \n",
       "6  False   False  False   False         False  False           False   \n",
       "7  False   False  False   False         False  False           False   \n",
       "8  False   False  False   False         False  False           False   \n",
       "9  False   False  False   False         False  False           False   \n",
       "\n",
       "   Depression  Anxiety  Panic_attact  Seek_special_trt  \n",
       "0       False    False         False             False  \n",
       "1       False    False         False             False  \n",
       "2       False    False         False             False  \n",
       "3       False    False         False             False  \n",
       "4       False    False         False             False  \n",
       "5       False    False         False             False  \n",
       "6       False    False         False             False  \n",
       "7       False    False         False             False  \n",
       "8       False    False         False             False  \n",
       "9       False    False         False             False  "
      ]
     },
     "execution_count": 159,
     "metadata": {},
     "output_type": "execute_result"
    }
   ],
   "source": [
    "missing_data = df.isnull()\n",
    "\n",
    "missing_data.head(10)"
   ]
  },
  {
   "cell_type": "code",
   "execution_count": 160,
   "id": "0b6be9e5-a0da-4498-a554-4ea8aef9c938",
   "metadata": {},
   "outputs": [
    {
     "name": "stdout",
     "output_type": "stream",
     "text": [
      "<class 'pandas.core.frame.DataFrame'>\n",
      "RangeIndex: 101 entries, 0 to 100\n",
      "Data columns (total 11 columns):\n",
      " #   Column            Non-Null Count  Dtype  \n",
      "---  ------            --------------  -----  \n",
      " 0   Time              101 non-null    object \n",
      " 1   Gender            101 non-null    object \n",
      " 2   Age               100 non-null    float64\n",
      " 3   Course            101 non-null    object \n",
      " 4   Current_year      101 non-null    object \n",
      " 5   CGPA              101 non-null    object \n",
      " 6   Marital_status    101 non-null    object \n",
      " 7   Depression        101 non-null    object \n",
      " 8   Anxiety           101 non-null    object \n",
      " 9   Panic_attact      101 non-null    object \n",
      " 10  Seek_special_trt  101 non-null    object \n",
      "dtypes: float64(1), object(10)\n",
      "memory usage: 8.8+ KB\n"
     ]
    }
   ],
   "source": [
    "df['Age'].replace(\" \", np.nan, inplace = True)\n",
    "\n",
    "df.info()"
   ]
  },
  {
   "cell_type": "code",
   "execution_count": 161,
   "id": "d2ba7cf1-3847-43ae-8ae3-2308c21ef073",
   "metadata": {},
   "outputs": [
    {
     "name": "stdout",
     "output_type": "stream",
     "text": [
      "Time\n",
      "False    101\n",
      "Name: Time, dtype: int64\n",
      "\n",
      "Gender\n",
      "False    101\n",
      "Name: Gender, dtype: int64\n",
      "\n",
      "Age\n",
      "False    100\n",
      "True       1\n",
      "Name: Age, dtype: int64\n",
      "\n",
      "Course\n",
      "False    101\n",
      "Name: Course, dtype: int64\n",
      "\n",
      "Current_year\n",
      "False    101\n",
      "Name: Current_year, dtype: int64\n",
      "\n",
      "CGPA\n",
      "False    101\n",
      "Name: CGPA, dtype: int64\n",
      "\n",
      "Marital_status\n",
      "False    101\n",
      "Name: Marital_status, dtype: int64\n",
      "\n",
      "Depression\n",
      "False    101\n",
      "Name: Depression, dtype: int64\n",
      "\n",
      "Anxiety\n",
      "False    101\n",
      "Name: Anxiety, dtype: int64\n",
      "\n",
      "Panic_attact\n",
      "False    101\n",
      "Name: Panic_attact, dtype: int64\n",
      "\n",
      "Seek_special_trt\n",
      "False    101\n",
      "Name: Seek_special_trt, dtype: int64\n",
      "\n"
     ]
    }
   ],
   "source": [
    "#getting the missing value_count for each column\n",
    "\n",
    "for column in missing_data.columns.values.tolist():\n",
    "    print(column)\n",
    "    print (missing_data[column].value_counts())\n",
    "    print(\"\")"
   ]
  },
  {
   "cell_type": "markdown",
   "id": "fae97960-8825-4cd3-bf98-df0f48d051e2",
   "metadata": {},
   "source": [
    "<b>The column name 'Age' has one missing data</b>"
   ]
  },
  {
   "cell_type": "code",
   "execution_count": 162,
   "id": "eccee06d-8690-497f-a994-b8f4d9e7a34d",
   "metadata": {},
   "outputs": [
    {
     "name": "stdout",
     "output_type": "stream",
     "text": [
      "Average of age: 20.53\n"
     ]
    }
   ],
   "source": [
    "avg_age = df[\"Age\"].astype(\"float\").mean(axis=0)\n",
    "print(\"Average of age:\", avg_age)"
   ]
  },
  {
   "cell_type": "code",
   "execution_count": 163,
   "id": "14eaa69d-05d5-4ed2-8710-ac3722e03db6",
   "metadata": {},
   "outputs": [],
   "source": [
    "df[\"Age\"].replace(np.nan, avg_age, inplace=True)"
   ]
  },
  {
   "cell_type": "code",
   "execution_count": 164,
   "id": "8cbf6caf-de09-44fe-bbf9-1cf91cdc7bab",
   "metadata": {},
   "outputs": [],
   "source": [
    "missing_data = df.isnull()"
   ]
  },
  {
   "cell_type": "code",
   "execution_count": 165,
   "id": "5250de17-eae0-4196-978c-17b6befa9b89",
   "metadata": {},
   "outputs": [
    {
     "name": "stdout",
     "output_type": "stream",
     "text": [
      "Time\n",
      "False    101\n",
      "Name: Time, dtype: int64\n",
      "\n",
      "Gender\n",
      "False    101\n",
      "Name: Gender, dtype: int64\n",
      "\n",
      "Age\n",
      "False    101\n",
      "Name: Age, dtype: int64\n",
      "\n",
      "Course\n",
      "False    101\n",
      "Name: Course, dtype: int64\n",
      "\n",
      "Current_year\n",
      "False    101\n",
      "Name: Current_year, dtype: int64\n",
      "\n",
      "CGPA\n",
      "False    101\n",
      "Name: CGPA, dtype: int64\n",
      "\n",
      "Marital_status\n",
      "False    101\n",
      "Name: Marital_status, dtype: int64\n",
      "\n",
      "Depression\n",
      "False    101\n",
      "Name: Depression, dtype: int64\n",
      "\n",
      "Anxiety\n",
      "False    101\n",
      "Name: Anxiety, dtype: int64\n",
      "\n",
      "Panic_attact\n",
      "False    101\n",
      "Name: Panic_attact, dtype: int64\n",
      "\n",
      "Seek_special_trt\n",
      "False    101\n",
      "Name: Seek_special_trt, dtype: int64\n",
      "\n"
     ]
    }
   ],
   "source": [
    "for column in missing_data.columns.values.tolist():\n",
    "    print(column)\n",
    "    print (missing_data[column].value_counts())\n",
    "    print(\"\")"
   ]
  },
  {
   "cell_type": "markdown",
   "id": "6910912f-df7f-4a68-bf78-25c657858e2a",
   "metadata": {},
   "source": [
    "<p>From the above report the missing value on the Age varible has been replaced by the average value <b>(20.53)</b></p>"
   ]
  },
  {
   "cell_type": "code",
   "execution_count": 166,
   "id": "e0a3a19a-3807-4409-b5a7-b144a05bbf29",
   "metadata": {},
   "outputs": [
    {
     "data": {
      "text/html": [
       "<div>\n",
       "<style scoped>\n",
       "    .dataframe tbody tr th:only-of-type {\n",
       "        vertical-align: middle;\n",
       "    }\n",
       "\n",
       "    .dataframe tbody tr th {\n",
       "        vertical-align: top;\n",
       "    }\n",
       "\n",
       "    .dataframe thead th {\n",
       "        text-align: right;\n",
       "    }\n",
       "</style>\n",
       "<table border=\"1\" class=\"dataframe\">\n",
       "  <thead>\n",
       "    <tr style=\"text-align: right;\">\n",
       "      <th></th>\n",
       "      <th>Time</th>\n",
       "      <th>Gender</th>\n",
       "      <th>Age</th>\n",
       "      <th>Course</th>\n",
       "      <th>Current_year</th>\n",
       "      <th>CGPA</th>\n",
       "      <th>Marital_status</th>\n",
       "      <th>Depression</th>\n",
       "      <th>Anxiety</th>\n",
       "      <th>Panic_attact</th>\n",
       "      <th>Seek_special_trt</th>\n",
       "    </tr>\n",
       "  </thead>\n",
       "  <tbody>\n",
       "    <tr>\n",
       "      <th>0</th>\n",
       "      <td>08/07/2020 12:02</td>\n",
       "      <td>Female</td>\n",
       "      <td>18.0</td>\n",
       "      <td>Engineering</td>\n",
       "      <td>year 1</td>\n",
       "      <td>3.00 - 3.49</td>\n",
       "      <td>No</td>\n",
       "      <td>Yes</td>\n",
       "      <td>No</td>\n",
       "      <td>Yes</td>\n",
       "      <td>No</td>\n",
       "    </tr>\n",
       "    <tr>\n",
       "      <th>1</th>\n",
       "      <td>08/07/2020 12:04</td>\n",
       "      <td>Male</td>\n",
       "      <td>21.0</td>\n",
       "      <td>Islamic education</td>\n",
       "      <td>year 2</td>\n",
       "      <td>3.00 - 3.49</td>\n",
       "      <td>No</td>\n",
       "      <td>No</td>\n",
       "      <td>Yes</td>\n",
       "      <td>No</td>\n",
       "      <td>No</td>\n",
       "    </tr>\n",
       "    <tr>\n",
       "      <th>2</th>\n",
       "      <td>08/07/2020 12:05</td>\n",
       "      <td>Male</td>\n",
       "      <td>19.0</td>\n",
       "      <td>BIT</td>\n",
       "      <td>Year 1</td>\n",
       "      <td>3.00 - 3.49</td>\n",
       "      <td>No</td>\n",
       "      <td>Yes</td>\n",
       "      <td>Yes</td>\n",
       "      <td>Yes</td>\n",
       "      <td>No</td>\n",
       "    </tr>\n",
       "    <tr>\n",
       "      <th>3</th>\n",
       "      <td>08/07/2020 12:06</td>\n",
       "      <td>Female</td>\n",
       "      <td>22.0</td>\n",
       "      <td>Laws</td>\n",
       "      <td>year 3</td>\n",
       "      <td>3.00 - 3.49</td>\n",
       "      <td>Yes</td>\n",
       "      <td>Yes</td>\n",
       "      <td>No</td>\n",
       "      <td>No</td>\n",
       "      <td>No</td>\n",
       "    </tr>\n",
       "    <tr>\n",
       "      <th>4</th>\n",
       "      <td>08/07/2020 12:13</td>\n",
       "      <td>Male</td>\n",
       "      <td>23.0</td>\n",
       "      <td>Mathemathics</td>\n",
       "      <td>year 4</td>\n",
       "      <td>3.00 - 3.49</td>\n",
       "      <td>No</td>\n",
       "      <td>No</td>\n",
       "      <td>No</td>\n",
       "      <td>No</td>\n",
       "      <td>No</td>\n",
       "    </tr>\n",
       "    <tr>\n",
       "      <th>...</th>\n",
       "      <td>...</td>\n",
       "      <td>...</td>\n",
       "      <td>...</td>\n",
       "      <td>...</td>\n",
       "      <td>...</td>\n",
       "      <td>...</td>\n",
       "      <td>...</td>\n",
       "      <td>...</td>\n",
       "      <td>...</td>\n",
       "      <td>...</td>\n",
       "      <td>...</td>\n",
       "    </tr>\n",
       "    <tr>\n",
       "      <th>95</th>\n",
       "      <td>13/07/2020 19:08</td>\n",
       "      <td>Female</td>\n",
       "      <td>18.0</td>\n",
       "      <td>Islamic Education</td>\n",
       "      <td>year 1</td>\n",
       "      <td>3.50 - 4.00</td>\n",
       "      <td>No</td>\n",
       "      <td>No</td>\n",
       "      <td>No</td>\n",
       "      <td>No</td>\n",
       "      <td>No</td>\n",
       "    </tr>\n",
       "    <tr>\n",
       "      <th>96</th>\n",
       "      <td>13/07/2020 19:56</td>\n",
       "      <td>Female</td>\n",
       "      <td>21.0</td>\n",
       "      <td>BCS</td>\n",
       "      <td>year 1</td>\n",
       "      <td>3.50 - 4.00</td>\n",
       "      <td>No</td>\n",
       "      <td>No</td>\n",
       "      <td>Yes</td>\n",
       "      <td>No</td>\n",
       "      <td>No</td>\n",
       "    </tr>\n",
       "    <tr>\n",
       "      <th>97</th>\n",
       "      <td>13/07/2020 21:21</td>\n",
       "      <td>Male</td>\n",
       "      <td>18.0</td>\n",
       "      <td>Engineering</td>\n",
       "      <td>Year 2</td>\n",
       "      <td>3.00 - 3.49</td>\n",
       "      <td>No</td>\n",
       "      <td>Yes</td>\n",
       "      <td>Yes</td>\n",
       "      <td>No</td>\n",
       "      <td>No</td>\n",
       "    </tr>\n",
       "    <tr>\n",
       "      <th>98</th>\n",
       "      <td>13/07/2020 21:22</td>\n",
       "      <td>Female</td>\n",
       "      <td>19.0</td>\n",
       "      <td>Nursing</td>\n",
       "      <td>Year 3</td>\n",
       "      <td>3.50 - 4.00</td>\n",
       "      <td>Yes</td>\n",
       "      <td>Yes</td>\n",
       "      <td>No</td>\n",
       "      <td>Yes</td>\n",
       "      <td>No</td>\n",
       "    </tr>\n",
       "    <tr>\n",
       "      <th>99</th>\n",
       "      <td>13/07/2020 21:23</td>\n",
       "      <td>Female</td>\n",
       "      <td>23.0</td>\n",
       "      <td>Pendidikan Islam</td>\n",
       "      <td>year 4</td>\n",
       "      <td>3.50 - 4.00</td>\n",
       "      <td>No</td>\n",
       "      <td>No</td>\n",
       "      <td>No</td>\n",
       "      <td>No</td>\n",
       "      <td>No</td>\n",
       "    </tr>\n",
       "  </tbody>\n",
       "</table>\n",
       "<p>100 rows × 11 columns</p>\n",
       "</div>"
      ],
      "text/plain": [
       "                Time  Gender   Age             Course Current_year  \\\n",
       "0   08/07/2020 12:02  Female  18.0        Engineering       year 1   \n",
       "1   08/07/2020 12:04    Male  21.0  Islamic education       year 2   \n",
       "2   08/07/2020 12:05    Male  19.0                BIT       Year 1   \n",
       "3   08/07/2020 12:06  Female  22.0               Laws       year 3   \n",
       "4   08/07/2020 12:13    Male  23.0       Mathemathics       year 4   \n",
       "..               ...     ...   ...                ...          ...   \n",
       "95  13/07/2020 19:08  Female  18.0  Islamic Education       year 1   \n",
       "96  13/07/2020 19:56  Female  21.0                BCS       year 1   \n",
       "97  13/07/2020 21:21    Male  18.0        Engineering       Year 2   \n",
       "98  13/07/2020 21:22  Female  19.0           Nursing        Year 3   \n",
       "99  13/07/2020 21:23  Female  23.0   Pendidikan Islam       year 4   \n",
       "\n",
       "           CGPA Marital_status Depression Anxiety Panic_attact  \\\n",
       "0   3.00 - 3.49             No        Yes      No          Yes   \n",
       "1   3.00 - 3.49             No         No     Yes           No   \n",
       "2   3.00 - 3.49             No        Yes     Yes          Yes   \n",
       "3   3.00 - 3.49            Yes        Yes      No           No   \n",
       "4   3.00 - 3.49             No         No      No           No   \n",
       "..          ...            ...        ...     ...          ...   \n",
       "95  3.50 - 4.00             No         No      No           No   \n",
       "96  3.50 - 4.00             No         No     Yes           No   \n",
       "97  3.00 - 3.49             No        Yes     Yes           No   \n",
       "98  3.50 - 4.00            Yes        Yes      No          Yes   \n",
       "99  3.50 - 4.00             No         No      No           No   \n",
       "\n",
       "   Seek_special_trt  \n",
       "0                No  \n",
       "1                No  \n",
       "2                No  \n",
       "3                No  \n",
       "4                No  \n",
       "..              ...  \n",
       "95               No  \n",
       "96               No  \n",
       "97               No  \n",
       "98               No  \n",
       "99               No  \n",
       "\n",
       "[100 rows x 11 columns]"
      ]
     },
     "execution_count": 166,
     "metadata": {},
     "output_type": "execute_result"
    }
   ],
   "source": [
    "df.head(100)\n"
   ]
  },
  {
   "cell_type": "code",
   "execution_count": 167,
   "id": "5549ffd5-0e85-4718-8c95-40ee60ae1db3",
   "metadata": {},
   "outputs": [
    {
     "name": "stdout",
     "output_type": "stream",
     "text": [
      "<class 'pandas.core.frame.DataFrame'>\n",
      "RangeIndex: 101 entries, 0 to 100\n",
      "Data columns (total 11 columns):\n",
      " #   Column            Non-Null Count  Dtype \n",
      "---  ------            --------------  ----- \n",
      " 0   Time              101 non-null    object\n",
      " 1   Gender            101 non-null    object\n",
      " 2   Age               101 non-null    int32 \n",
      " 3   Course            101 non-null    object\n",
      " 4   Current_year      101 non-null    object\n",
      " 5   CGPA              101 non-null    object\n",
      " 6   Marital_status    101 non-null    object\n",
      " 7   Depression        101 non-null    object\n",
      " 8   Anxiety           101 non-null    object\n",
      " 9   Panic_attact      101 non-null    object\n",
      " 10  Seek_special_trt  101 non-null    object\n",
      "dtypes: int32(1), object(10)\n",
      "memory usage: 8.4+ KB\n"
     ]
    }
   ],
   "source": [
    "#changing the dtypes of age to int\n",
    "\n",
    "df[\"Age\"] = df[\"Age\"].astype(int)\n",
    "\n",
    "df.info()"
   ]
  },
  {
   "cell_type": "code",
   "execution_count": 168,
   "id": "60fa1342-2650-4745-b9db-9a7e697b0584",
   "metadata": {},
   "outputs": [
    {
     "data": {
      "text/html": [
       "<div>\n",
       "<style scoped>\n",
       "    .dataframe tbody tr th:only-of-type {\n",
       "        vertical-align: middle;\n",
       "    }\n",
       "\n",
       "    .dataframe tbody tr th {\n",
       "        vertical-align: top;\n",
       "    }\n",
       "\n",
       "    .dataframe thead th {\n",
       "        text-align: right;\n",
       "    }\n",
       "</style>\n",
       "<table border=\"1\" class=\"dataframe\">\n",
       "  <thead>\n",
       "    <tr style=\"text-align: right;\">\n",
       "      <th></th>\n",
       "      <th>Time</th>\n",
       "      <th>Gender</th>\n",
       "      <th>Age</th>\n",
       "      <th>Course</th>\n",
       "      <th>Current_year</th>\n",
       "      <th>CGPA</th>\n",
       "      <th>Marital_status</th>\n",
       "      <th>Depression</th>\n",
       "      <th>Anxiety</th>\n",
       "      <th>Panic_attact</th>\n",
       "      <th>Seek_special_trt</th>\n",
       "    </tr>\n",
       "  </thead>\n",
       "  <tbody>\n",
       "    <tr>\n",
       "      <th>0</th>\n",
       "      <td>08/07/2020 12:02</td>\n",
       "      <td>Female</td>\n",
       "      <td>18</td>\n",
       "      <td>Engineering</td>\n",
       "      <td>year 1</td>\n",
       "      <td>3.00 - 3.49</td>\n",
       "      <td>No</td>\n",
       "      <td>Yes</td>\n",
       "      <td>No</td>\n",
       "      <td>Yes</td>\n",
       "      <td>No</td>\n",
       "    </tr>\n",
       "    <tr>\n",
       "      <th>1</th>\n",
       "      <td>08/07/2020 12:04</td>\n",
       "      <td>Male</td>\n",
       "      <td>21</td>\n",
       "      <td>Islamic education</td>\n",
       "      <td>year 2</td>\n",
       "      <td>3.00 - 3.49</td>\n",
       "      <td>No</td>\n",
       "      <td>No</td>\n",
       "      <td>Yes</td>\n",
       "      <td>No</td>\n",
       "      <td>No</td>\n",
       "    </tr>\n",
       "    <tr>\n",
       "      <th>2</th>\n",
       "      <td>08/07/2020 12:05</td>\n",
       "      <td>Male</td>\n",
       "      <td>19</td>\n",
       "      <td>BIT</td>\n",
       "      <td>Year 1</td>\n",
       "      <td>3.00 - 3.49</td>\n",
       "      <td>No</td>\n",
       "      <td>Yes</td>\n",
       "      <td>Yes</td>\n",
       "      <td>Yes</td>\n",
       "      <td>No</td>\n",
       "    </tr>\n",
       "    <tr>\n",
       "      <th>3</th>\n",
       "      <td>08/07/2020 12:06</td>\n",
       "      <td>Female</td>\n",
       "      <td>22</td>\n",
       "      <td>Laws</td>\n",
       "      <td>year 3</td>\n",
       "      <td>3.00 - 3.49</td>\n",
       "      <td>Yes</td>\n",
       "      <td>Yes</td>\n",
       "      <td>No</td>\n",
       "      <td>No</td>\n",
       "      <td>No</td>\n",
       "    </tr>\n",
       "    <tr>\n",
       "      <th>4</th>\n",
       "      <td>08/07/2020 12:13</td>\n",
       "      <td>Male</td>\n",
       "      <td>23</td>\n",
       "      <td>Mathemathics</td>\n",
       "      <td>year 4</td>\n",
       "      <td>3.00 - 3.49</td>\n",
       "      <td>No</td>\n",
       "      <td>No</td>\n",
       "      <td>No</td>\n",
       "      <td>No</td>\n",
       "      <td>No</td>\n",
       "    </tr>\n",
       "    <tr>\n",
       "      <th>5</th>\n",
       "      <td>08/07/2020 12:31</td>\n",
       "      <td>Male</td>\n",
       "      <td>19</td>\n",
       "      <td>Engineering</td>\n",
       "      <td>Year 2</td>\n",
       "      <td>3.50 - 4.00</td>\n",
       "      <td>No</td>\n",
       "      <td>No</td>\n",
       "      <td>No</td>\n",
       "      <td>Yes</td>\n",
       "      <td>No</td>\n",
       "    </tr>\n",
       "    <tr>\n",
       "      <th>6</th>\n",
       "      <td>08/07/2020 12:32</td>\n",
       "      <td>Female</td>\n",
       "      <td>23</td>\n",
       "      <td>Pendidikan islam</td>\n",
       "      <td>year 2</td>\n",
       "      <td>3.50 - 4.00</td>\n",
       "      <td>Yes</td>\n",
       "      <td>Yes</td>\n",
       "      <td>No</td>\n",
       "      <td>Yes</td>\n",
       "      <td>No</td>\n",
       "    </tr>\n",
       "    <tr>\n",
       "      <th>7</th>\n",
       "      <td>08/07/2020 12:33</td>\n",
       "      <td>Female</td>\n",
       "      <td>18</td>\n",
       "      <td>BCS</td>\n",
       "      <td>year 1</td>\n",
       "      <td>3.50 - 4.00</td>\n",
       "      <td>No</td>\n",
       "      <td>No</td>\n",
       "      <td>Yes</td>\n",
       "      <td>No</td>\n",
       "      <td>No</td>\n",
       "    </tr>\n",
       "    <tr>\n",
       "      <th>8</th>\n",
       "      <td>08/07/2020 12:35</td>\n",
       "      <td>Female</td>\n",
       "      <td>19</td>\n",
       "      <td>Human Resources</td>\n",
       "      <td>Year 2</td>\n",
       "      <td>2.50 - 2.99</td>\n",
       "      <td>No</td>\n",
       "      <td>No</td>\n",
       "      <td>No</td>\n",
       "      <td>No</td>\n",
       "      <td>No</td>\n",
       "    </tr>\n",
       "    <tr>\n",
       "      <th>9</th>\n",
       "      <td>08/07/2020 12:39</td>\n",
       "      <td>Male</td>\n",
       "      <td>18</td>\n",
       "      <td>Irkhs</td>\n",
       "      <td>year 1</td>\n",
       "      <td>3.50 - 4.00</td>\n",
       "      <td>No</td>\n",
       "      <td>No</td>\n",
       "      <td>Yes</td>\n",
       "      <td>Yes</td>\n",
       "      <td>No</td>\n",
       "    </tr>\n",
       "  </tbody>\n",
       "</table>\n",
       "</div>"
      ],
      "text/plain": [
       "               Time  Gender  Age             Course Current_year         CGPA  \\\n",
       "0  08/07/2020 12:02  Female   18        Engineering       year 1  3.00 - 3.49   \n",
       "1  08/07/2020 12:04    Male   21  Islamic education       year 2  3.00 - 3.49   \n",
       "2  08/07/2020 12:05    Male   19                BIT       Year 1  3.00 - 3.49   \n",
       "3  08/07/2020 12:06  Female   22               Laws       year 3  3.00 - 3.49   \n",
       "4  08/07/2020 12:13    Male   23       Mathemathics       year 4  3.00 - 3.49   \n",
       "5  08/07/2020 12:31    Male   19        Engineering       Year 2  3.50 - 4.00   \n",
       "6  08/07/2020 12:32  Female   23   Pendidikan islam       year 2  3.50 - 4.00   \n",
       "7  08/07/2020 12:33  Female   18                BCS       year 1  3.50 - 4.00   \n",
       "8  08/07/2020 12:35  Female   19    Human Resources       Year 2  2.50 - 2.99   \n",
       "9  08/07/2020 12:39    Male   18              Irkhs       year 1  3.50 - 4.00   \n",
       "\n",
       "  Marital_status Depression Anxiety Panic_attact Seek_special_trt  \n",
       "0             No        Yes      No          Yes               No  \n",
       "1             No         No     Yes           No               No  \n",
       "2             No        Yes     Yes          Yes               No  \n",
       "3            Yes        Yes      No           No               No  \n",
       "4             No         No      No           No               No  \n",
       "5             No         No      No          Yes               No  \n",
       "6            Yes        Yes      No          Yes               No  \n",
       "7             No         No     Yes           No               No  \n",
       "8             No         No      No           No               No  \n",
       "9             No         No     Yes          Yes               No  "
      ]
     },
     "execution_count": 168,
     "metadata": {},
     "output_type": "execute_result"
    }
   ],
   "source": [
    "df.head(10)"
   ]
  },
  {
   "cell_type": "code",
   "execution_count": 169,
   "id": "3c8cb9aa-8855-47a3-a398-013ee6efeaf1",
   "metadata": {},
   "outputs": [
    {
     "name": "stdout",
     "output_type": "stream",
     "text": [
      "0 - 1.99\n",
      "3.50 - 4.00\n",
      "3.00 - 3.49\n",
      "2.50 - 2.99\n",
      "2.00 - 2.49\n"
     ]
    }
   ],
   "source": [
    "cgpa_opt = sorted(df[\"CGPA\"])\n",
    "opt = set(cgpa_opt)\n",
    "for i in opt:\n",
    "    print(i)"
   ]
  },
  {
   "cell_type": "code",
   "execution_count": 170,
   "id": "c3d9c978-351a-4d57-8c58-be54756661e6",
   "metadata": {},
   "outputs": [
    {
     "data": {
      "text/plain": [
       "count     101\n",
       "unique     49\n",
       "top       BCS\n",
       "freq       18\n",
       "Name: Course, dtype: object"
      ]
     },
     "execution_count": 170,
     "metadata": {},
     "output_type": "execute_result"
    }
   ],
   "source": [
    "df[\"Course\"].describe()"
   ]
  },
  {
   "cell_type": "code",
   "execution_count": 209,
   "id": "08140e6d-a781-4060-82f9-52bc37433002",
   "metadata": {},
   "outputs": [
    {
     "name": "stdout",
     "output_type": "stream",
     "text": [
      "The Number of gender are: 2 \n",
      "\n",
      "**Gender Distribution Table**\n",
      "\n",
      "  Courses  Counts\n",
      "0  Female      75\n",
      "1    Male      26\n",
      "\n",
      "Total responses = 101\n"
     ]
    }
   ],
   "source": [
    "gender = df[\"Gender\"].value_counts()\n",
    "sum_gender = sum(gender)\n",
    "no_of_gender = len(gender)\n",
    "print(\"The Number of gender are: {} \\n\".format(no_of_gender))\n",
    "\n",
    "course_count_table = pd.DataFrame({\"Courses\": gender.index, \"Counts\": gender.values})\n",
    "# Print the table with a descriptive header\n",
    "print(\"**Gender Distribution Table**\\n\")\n",
    "print(course_count_table.to_string())\n",
    "print(\"\\nTotal responses = {}\".format(sum_gender))"
   ]
  },
  {
   "cell_type": "code",
   "execution_count": 207,
   "id": "f05f1e49-ac01-497a-9f8c-4fcec9be728b",
   "metadata": {},
   "outputs": [
    {
     "data": {
      "image/png": "[encoded data removed]",
      "text/plain": [
       "<Figure size 640x480 with 1 Axes>"
      ]
     },
     "metadata": {},
     "output_type": "display_data"
    }
   ],
   "source": [
    "colors = [\"blue\", \"purple\"]\n",
    "gender_values = gender.values\n",
    "gender_labels = [\"Female\", \"Male\"] \n",
    "plt.pie(gender_values, labels=gender_labels, colors=colors, autopct=\"%1.1f%%\")\n",
    "\n",
    "plt.title(\"Gender Distribution\")\n",
    "plt.axis(\"equal\")\n",
    "\n",
    "plt.show()"
   ]
  },
  {
   "cell_type": "code",
   "execution_count": 210,
   "id": "f455cc83-e68a-4270-9d88-80fbc9ac5a25",
   "metadata": {},
   "outputs": [
    {
     "name": "stdout",
     "output_type": "stream",
     "text": [
      "The Number of gender are: 7 \n",
      "\n",
      "**Age Distribution Table**\n",
      "\n",
      "   Courses  Counts\n",
      "0       18      32\n",
      "1       24      23\n",
      "2       19      21\n",
      "3       23      13\n",
      "4       20       7\n",
      "5       21       3\n",
      "6       22       2\n",
      "\n",
      "Total responses = 101\n"
     ]
    }
   ],
   "source": [
    "age = df[\"Age\"].value_counts()\n",
    "sum_age = sum(age)\n",
    "no_of_age = len(age)\n",
    "print(\"The Number of gender are: {} \\n\".format(no_of_age))\n",
    "\n",
    "age_count_table = pd.DataFrame({\"Courses\": age.index, \"Counts\": age.values})\n",
    "# Print the table with a descriptive header\n",
    "print(\"**Age Distribution Table**\\n\")\n",
    "print(age_count_table.to_string())\n",
    "print(\"\\nTotal responses = {}\".format(sum_age))"
   ]
  },
  {
   "cell_type": "code",
   "execution_count": 213,
   "id": "ebcd9203-dc95-45d9-a231-a257a758d9e5",
   "metadata": {},
   "outputs": [
    {
     "data": {
      "image/png": "[encoded data removed]",
      "text/plain": [
       "<Figure size 800x400 with 1 Axes>"
      ]
     },
     "metadata": {},
     "output_type": "display_data"
    }
   ],
   "source": [
    "plt.figure(figsize=(8, 4))\n",
    "colors = [\"blue\"]\n",
    "age.plot(kind = \"bar\", color=colors)\n",
    "plt.xlabel(\"Students Age\")\n",
    "plt.ylabel(\"Number of responses\")\n",
    "plt.title(\"Distribution of Student's Age\")\n",
    "\n",
    "plt.show()"
   ]
  },
  {
   "cell_type": "code",
   "execution_count": 191,
   "id": "359accac-3844-4d73-b051-bae8e76a2c8b",
   "metadata": {},
   "outputs": [
    {
     "name": "stdout",
     "output_type": "stream",
     "text": [
      "The Number of Coureses are: 49 \n",
      "\n",
      "**Course Distribution Table**\n",
      "\n",
      "                    Courses  Counts\n",
      "0                       BCS      18\n",
      "1               Engineering      17\n",
      "2                       BIT      10\n",
      "3        Biomedical science       4\n",
      "4                       KOE       4\n",
      "5                      BENL       2\n",
      "6                      Laws       2\n",
      "7                psychology       2\n",
      "8                    Engine       2\n",
      "9         Islamic Education       1\n",
      "10            Biotechnology       1\n",
      "11                    engin       1\n",
      "12                    Econs       1\n",
      "13                     MHSC       1\n",
      "14                   Malcom       1\n",
      "15                      Kop       1\n",
      "16          Human Sciences        1\n",
      "17           Communication        1\n",
      "18                 Nursing        1\n",
      "19          Diploma Nursing       1\n",
      "20                       IT       1\n",
      "21        Pendidikan Islam        1\n",
      "22              Radiography       1\n",
      "23              Fiqh fatwa        1\n",
      "24             DIPLOMA TESL       1\n",
      "25                      Koe       1\n",
      "26                     Fiqh       1\n",
      "27                      CTS       1\n",
      "28                      koe       1\n",
      "29                     Benl       1\n",
      "30                   Kirkhs       1\n",
      "31             Mathemathics       1\n",
      "32         Pendidikan islam       1\n",
      "33          Human Resources       1\n",
      "34                    Irkhs       1\n",
      "35               Psychology       1\n",
      "36                    KENMS       1\n",
      "37              Accounting        1\n",
      "38                      ENM       1\n",
      "39           Marine science       1\n",
      "40          Banking Studies       1\n",
      "41  Business Administration       1\n",
      "42                      Law       1\n",
      "43                   KIRKHS       1\n",
      "44               Usuluddin        1\n",
      "45                    TAASL       1\n",
      "46                      ALA       1\n",
      "47        Islamic education       1\n",
      "48         Pendidikan Islam       1\n",
      "\n",
      "Total responses = 101\n"
     ]
    }
   ],
   "source": [
    "course = df[\"Course\"].value_counts()\n",
    "sum_value = sum(course)\n",
    "no_of_courses = len(course)\n",
    "print(\"The Number of Coureses are: {} \\n\".format(no_of_courses))\n",
    "\n",
    "course_count_table = pd.DataFrame({\"Courses\": course.index, \"Counts\": course.values})\n",
    "# Print the table with a descriptive header\n",
    "print(\"**Course Distribution Table**\\n\")\n",
    "print(course_count_table.to_string())\n",
    "print(\"\\nTotal responses = {}\".format(sum_value))"
   ]
  },
  {
   "cell_type": "code",
   "execution_count": 194,
   "id": "e9600e95-92fe-4f00-8cb2-5745b0dfd4e3",
   "metadata": {},
   "outputs": [
    {
     "data": {
      "image/png": "[encoded data removed]",
      "text/plain": [
       "<Figure size 1000x500 with 1 Axes>"
      ]
     },
     "metadata": {},
     "output_type": "display_data"
    }
   ],
   "source": [
    "plt.figure(figsize=(10, 5))\n",
    "colors = [\"blue\"]\n",
    "course.plot(kind = \"bar\", color=colors)\n",
    "plt.xlabel(\"Courses\")\n",
    "plt.ylabel(\"Number of responses\")\n",
    "plt.title(\"Distribution of Courses\")\n",
    "\n",
    "plt.show()"
   ]
  },
  {
   "cell_type": "code",
   "execution_count": 215,
   "id": "3cc992b3-f28b-49ef-a7b1-577290f3480f",
   "metadata": {},
   "outputs": [
    {
     "name": "stdout",
     "output_type": "stream",
     "text": [
      "The Number of gender are: 7 \n",
      "\n",
      "**Age Distribution Table**\n",
      "\n",
      "  Courses  Counts\n",
      "0  year 1      41\n",
      "1  Year 3      19\n",
      "2  Year 2      16\n",
      "3  year 2      10\n",
      "4  year 4       8\n",
      "5  year 3       5\n",
      "6  Year 1       2\n",
      "\n",
      "Total responses = 101\n"
     ]
    }
   ],
   "source": [
    "current_year = df[\"Current_year\"].value_counts()\n",
    "sum_current_year = sum(current_year)\n",
    "no_of_current_year = len(current_year)\n",
    "print(\"The Number of gender are: {} \\n\".format(no_of_current_year))\n",
    "\n",
    "age_count_table = pd.DataFrame({\"Courses\": current_year.index, \"Counts\": current_year.values})\n",
    "# Print the table with a descriptive header\n",
    "print(\"**Age Distribution Table**\\n\")\n",
    "print(age_count_table.to_string())\n",
    "print(\"\\nTotal responses = {}\".format(sum_current_year))"
   ]
  },
  {
   "cell_type": "code",
   "execution_count": 220,
   "id": "2fda1ba9-5dc8-4f7d-9313-82d158215638",
   "metadata": {},
   "outputs": [],
   "source": [
    "#the student's year are repeated with differe string character type\n",
    "\n",
    "df[\"Current_year\"] = df[\"Current_year\"].replace(\"year 1\", \"Year 1\")\n",
    "df[\"Current_year\"] = df[\"Current_year\"].replace(\"year 2\", \"Year 2\")\n",
    "df[\"Current_year\"] = df[\"Current_year\"].replace(\"year 3\", \"Year 3\")\n",
    "df[\"Current_year\"] = df[\"Current_year\"].replace(\"year 4\", \"Year 4\")"
   ]
  },
  {
   "cell_type": "code",
   "execution_count": 221,
   "id": "bc8bc913-449a-415c-894f-aa0188de2ceb",
   "metadata": {},
   "outputs": [
    {
     "name": "stdout",
     "output_type": "stream",
     "text": [
      "The Number of gender are: 4 \n",
      "\n",
      "**Age Distribution Table**\n",
      "\n",
      "  Courses  Counts\n",
      "0  Year 1      43\n",
      "1  Year 2      26\n",
      "2  Year 3      24\n",
      "3  Year 4       8\n",
      "\n",
      "Total responses = 101\n"
     ]
    }
   ],
   "source": [
    "current_year = df[\"Current_year\"].value_counts()\n",
    "sum_current_year = sum(current_year)\n",
    "no_of_current_year = len(current_year)\n",
    "print(\"The Number of gender are: {} \\n\".format(no_of_current_year))\n",
    "\n",
    "age_count_table = pd.DataFrame({\"Courses\": current_year.index, \"Counts\": current_year.values})\n",
    "print(\"**Age Distribution Table**\\n\")\n",
    "print(age_count_table.to_string())\n",
    "print(\"\\nTotal responses = {}\".format(sum_current_year))"
   ]
  },
  {
   "cell_type": "code",
   "execution_count": 222,
   "id": "4fff030a-49a0-43cb-9b33-7a35f119bbdd",
   "metadata": {},
   "outputs": [
    {
     "data": {
      "image/png": "[encoded data removed]",
      "text/plain": [
       "<Figure size 640x480 with 1 Axes>"
      ]
     },
     "metadata": {},
     "output_type": "display_data"
    }
   ],
   "source": [
    "colors = [\"blue\", \"purple\", \"brown\", \"yellow\"]\n",
    "level_values = current_year.values\n",
    "gender_labels = [\"Year 1\", \"Year 2\", \"Year 3\", \"Year 4\"] \n",
    "plt.pie(level_values, labels=gender_labels, colors=colors, autopct=\"%1.1f%%\")\n",
    "\n",
    "plt.title(\"Student Level Distribution\")\n",
    "plt.axis(\"equal\")\n",
    "\n",
    "plt.show()"
   ]
  },
  {
   "cell_type": "code",
   "execution_count": 172,
   "id": "851c0068-b16a-48e0-bf2b-c937996e2eeb",
   "metadata": {},
   "outputs": [
    {
     "name": "stdout",
     "output_type": "stream",
     "text": [
      "\n",
      "**CGPA Distribution Table**\n",
      "          CGPA  Count\n",
      "0  3.50 - 4.00     48\n",
      "1  3.00 - 3.49     43\n",
      "2  2.50 - 2.99      4\n",
      "3     0 - 1.99      4\n",
      "4  2.00 - 2.49      2\n"
     ]
    }
   ],
   "source": [
    "cgpa_counts = df[\"CGPA\"].value_counts()\n",
    "# Create a DataFrame from the counts\n",
    "cgpa_counts_table = pd.DataFrame({\"CGPA\": cgpa_counts.index, \"Count\": cgpa_counts.values})\n",
    "\n",
    "# Print the table with a descriptive header\n",
    "print(\"\\n**CGPA Distribution Table**\")\n",
    "print(cgpa_counts_table.to_string())"
   ]
  },
  {
   "cell_type": "code",
   "execution_count": 214,
   "id": "534d2583-bd29-401a-b114-ee9cf4ff202e",
   "metadata": {},
   "outputs": [
    {
     "data": {
      "image/png": "[encoded data removed]",
      "text/plain": [
       "<Figure size 800x400 with 1 Axes>"
      ]
     },
     "metadata": {},
     "output_type": "display_data"
    }
   ],
   "source": [
    "#p\n",
    "import matplotlib.patches as mpatches\n",
    "\n",
    "plt.figure(figsize=(8, 4))\n",
    "colors = [\"blue\"]\n",
    "#colors = [\"skyblue\", \"lightgreen\", \"yellow\", \"orange\", \"red\", \"blue\"]\n",
    "#patches = [mpatches.Patch(color=c) for c in colors]\n",
    "cgpa_counts.plot(kind=\"bar\", color=colors)\n",
    "#plt.legend(patches, cgpa_counts.index, title=\"CGPA Range\", loc=\"upper right\")\n",
    "\n",
    "plt.xlabel('CGPA')\n",
    "plt.ylabel('Number of responses')\n",
    "plt.title(\"Distribution of CGPA\")\n",
    "\n",
    "\n",
    "# Show the plot\n",
    "plt.show()"
   ]
  },
  {
   "cell_type": "code",
   "execution_count": 228,
   "id": "dff308be-17a9-4fac-89f3-fe1cc19270ff",
   "metadata": {},
   "outputs": [
    {
     "name": "stdout",
     "output_type": "stream",
     "text": [
      "The Number of Marital status are: 2 \n",
      "\n",
      "**Marital status Distribution Table**\n",
      "\n",
      "  Courses  Counts\n",
      "0      No      85\n",
      "1     Yes      16\n",
      "\n",
      "Total responses = 101\n"
     ]
    }
   ],
   "source": [
    "marital_status = df[\"Marital_status\"].value_counts()\n",
    "sum_marital_status = sum(marital_status)\n",
    "no_of_marital_status = len(marital_status)\n",
    "print(\"The Number of Marital status are: {} \\n\".format(no_of_marital_status))\n",
    "\n",
    "marital_status_count_table = pd.DataFrame({\"Courses\": marital_status.index, \"Counts\": marital_status.values})\n",
    "# Print the table with a descriptive header\n",
    "print(\"**Marital status Distribution Table**\\n\")\n",
    "print(marital_status_count_table.to_string())\n",
    "print(\"\\nTotal responses = {}\".format(sum_marital_status))"
   ]
  },
  {
   "cell_type": "code",
   "execution_count": 236,
   "id": "d0798801-ea52-437d-a161-8c1e29a47414",
   "metadata": {},
   "outputs": [
    {
     "data": {
      "image/png": "[encoded data removed]",
      "text/plain": [
       "<Figure size 640x480 with 1 Axes>"
      ]
     },
     "metadata": {},
     "output_type": "display_data"
    }
   ],
   "source": [
    "colors = [\"blue\", \"purple\"]\n",
    "marital_status_values = marital_status.values\n",
    "marital_labels = [\"No\", \"Yes\"] \n",
    "plt.pie(marital_status, labels=marital_labels, colors=colors, autopct=\"%1.1f%%\")\n",
    "\n",
    "plt.title(\"Marital status Distribution\")\n",
    "plt.axis(\"equal\")\n",
    "\n",
    "plt.show()"
   ]
  },
  {
   "cell_type": "code",
   "execution_count": 230,
   "id": "361b9e62-b63e-4375-909f-69bff8205531",
   "metadata": {},
   "outputs": [
    {
     "name": "stdout",
     "output_type": "stream",
     "text": [
      "The Number of Marital status are: 2 \n",
      "\n",
      "**Do you have Depression?**\n",
      "\n",
      "  Courses  Counts\n",
      "0      No      66\n",
      "1     Yes      35\n",
      "\n",
      "Total responses = 101\n"
     ]
    }
   ],
   "source": [
    "depression = df[\"Depression\"].value_counts()\n",
    "sum_depression = sum(depression)\n",
    "no_of_depression = len(depression)\n",
    "print(\"The Number of Marital status are: {} \\n\".format(no_of_depression))\n",
    "\n",
    "depression_count_table = pd.DataFrame({\"Courses\": depression.index, \"Counts\": depression.values})\n",
    "# Print the table with a descriptive header\n",
    "print(\"**Do you have Depression?**\\n\")\n",
    "print(depression_count_table.to_string())\n",
    "print(\"\\nTotal responses = {}\".format(sum_depression))"
   ]
  },
  {
   "cell_type": "code",
   "execution_count": 235,
   "id": "616d3e30-3f1f-4f8f-86b5-2f059512ee40",
   "metadata": {},
   "outputs": [
    {
     "data": {
      "image/png": "[encoded data removed]",
      "text/plain": [
       "<Figure size 640x480 with 1 Axes>"
      ]
     },
     "metadata": {},
     "output_type": "display_data"
    }
   ],
   "source": [
    "colors = [\"blue\", \"purple\"]\n",
    "depression_values = depression.values\n",
    "depression_labels = [\"No\", \"Yes\"] \n",
    "plt.pie(marital_status, labels=depression_labels, colors=colors, autopct=\"%1.1f%%\")\n",
    "\n",
    "plt.title(\"Do you have Depression?\")\n",
    "plt.axis(\"equal\")\n",
    "\n",
    "plt.show()"
   ]
  },
  {
   "cell_type": "code",
   "execution_count": 233,
   "id": "a1cffc0e-e3b4-4d07-9103-54f98dde4f89",
   "metadata": {},
   "outputs": [
    {
     "name": "stdout",
     "output_type": "stream",
     "text": [
      "<class 'pandas.core.frame.DataFrame'>\n",
      "RangeIndex: 101 entries, 0 to 100\n",
      "Data columns (total 11 columns):\n",
      " #   Column            Non-Null Count  Dtype \n",
      "---  ------            --------------  ----- \n",
      " 0   Time              101 non-null    object\n",
      " 1   Gender            101 non-null    object\n",
      " 2   Age               101 non-null    int32 \n",
      " 3   Course            101 non-null    object\n",
      " 4   Current_year      101 non-null    object\n",
      " 5   CGPA              101 non-null    object\n",
      " 6   Marital_status    101 non-null    object\n",
      " 7   Depression        101 non-null    object\n",
      " 8   Anxiety           101 non-null    object\n",
      " 9   Panic_attact      101 non-null    object\n",
      " 10  Seek_special_trt  101 non-null    object\n",
      "dtypes: int32(1), object(10)\n",
      "memory usage: 8.4+ KB\n"
     ]
    }
   ],
   "source": [
    "df.info()"
   ]
  },
  {
   "cell_type": "code",
   "execution_count": 238,
   "id": "fab76d9b-d797-4ba3-a394-b161776523b5",
   "metadata": {},
   "outputs": [
    {
     "name": "stdout",
     "output_type": "stream",
     "text": [
      "The Number of Marital status are: 2 \n",
      "\n",
      "**Do you have Anxiety?**\n",
      "\n",
      "  Courses  Counts\n",
      "0      No      67\n",
      "1     Yes      34\n",
      "\n",
      "Total responses = 101\n"
     ]
    }
   ],
   "source": [
    "Anxiety = df[\"Anxiety\"].value_counts()\n",
    "sum_Anxiety = sum(Anxiety)\n",
    "no_of_Anxiety = len(Anxiety)\n",
    "print(\"The Number of Marital status are: {} \\n\".format(no_of_Anxiety))\n",
    "\n",
    "depression_count_table = pd.DataFrame({\"Courses\": Anxiety.index, \"Counts\": Anxiety.values})\n",
    "print(\"**Do you have Anxiety?**\\n\")\n",
    "print(depression_count_table.to_string())\n",
    "print(\"\\nTotal responses = {}\".format(sum_Anxiety))"
   ]
  },
  {
   "cell_type": "code",
   "execution_count": 250,
   "id": "ba1e7453-326a-4da9-a9b8-be9c209fcfa7",
   "metadata": {},
   "outputs": [
    {
     "data": {
      "image/png": "[encoded data removed]",
      "text/plain": [
       "<Figure size 640x480 with 1 Axes>"
      ]
     },
     "metadata": {},
     "output_type": "display_data"
    }
   ],
   "source": [
    "colors = [\"blue\", \"purple\"]\n",
    "Anxiety_values = Anxiety.values\n",
    "Anxiety_labels = [\"No\", \"Yes\"] \n",
    "plt.pie(Anxiety_values, labels=Anxiety_labels, colors=colors, autopct=\"%1.1f%%\")\n",
    "\n",
    "plt.title(\"Do you have Anxiety?\")\n",
    "plt.axis(\"equal\")\n",
    "\n",
    "plt.show()"
   ]
  },
  {
   "cell_type": "code",
   "execution_count": 241,
   "id": "dbebff40-8bbf-4494-870e-46723975ec59",
   "metadata": {},
   "outputs": [
    {
     "name": "stdout",
     "output_type": "stream",
     "text": [
      "The Number of Marital status are: 2 \n",
      "\n",
      "**Do you have Panic attact?**\n",
      "\n",
      "  Courses  Counts\n",
      "0      No      68\n",
      "1     Yes      33\n",
      "\n",
      "Total responses = 101\n"
     ]
    }
   ],
   "source": [
    "Panic_attact = df[\"Panic_attact\"].value_counts()\n",
    "sum_Panic_attact = sum(Panic_attact)\n",
    "no_of_Panic_attact = len(Panic_attact)\n",
    "print(\"The Number of Marital status are: {} \\n\".format(no_of_Anxiety))\n",
    "\n",
    "Panic_attact_count_table = pd.DataFrame({\"Courses\": Panic_attact.index, \"Counts\": Panic_attact.values})\n",
    "print(\"**Do you have Panic attact?**\\n\")\n",
    "print(Panic_attact_count_table.to_string())\n",
    "print(\"\\nTotal responses = {}\".format(sum_Panic_attact))"
   ]
  },
  {
   "cell_type": "code",
   "execution_count": 245,
   "id": "56dd6653-60de-45e5-9ca4-7694285d7fa8",
   "metadata": {},
   "outputs": [
    {
     "data": {
      "image/png": "[encoded data removed]",
      "text/plain": [
       "<Figure size 640x480 with 1 Axes>"
      ]
     },
     "metadata": {},
     "output_type": "display_data"
    }
   ],
   "source": [
    "colors = [\"blue\", \"purple\"]\n",
    "Panic_attact_values = Panic_attact.values\n",
    "panic_labels = [\"No\", \"Yes\"] \n",
    "plt.pie(Panic_attact_values, labels=panic_labels, colors=colors, autopct=\"%1.1f%%\")\n",
    "\n",
    "plt.title(\"Do you have Panic attact?\")\n",
    "plt.axis(\"equal\")\n",
    "\n",
    "plt.show()"
   ]
  },
  {
   "cell_type": "code",
   "execution_count": 246,
   "id": "38236b15-5ee9-4115-b057-813435290f33",
   "metadata": {},
   "outputs": [
    {
     "name": "stdout",
     "output_type": "stream",
     "text": [
      "The Number of Marital status are: 2 \n",
      "\n",
      "**Did you seek any specialist for a treatment?**\n",
      "\n",
      "  Courses  Counts\n",
      "0      No      95\n",
      "1     Yes       6\n",
      "\n",
      "Total responses = 101\n"
     ]
    }
   ],
   "source": [
    "Seek_special_trt = df[\"Seek_special_trt\"].value_counts()\n",
    "sum_Seek_special_trt = sum(Seek_special_trt)\n",
    "no_of_Seek_special_trt = len(Seek_special_trt)\n",
    "print(\"The Number of Marital status are: {} \\n\".format(no_of_Seek_special_trt))\n",
    "\n",
    "Seek_special_trt_count_table = pd.DataFrame({\"Courses\": Seek_special_trt.index, \"Counts\": Seek_special_trt.values})\n",
    "print(\"**Did you seek any specialist for a treatment?**\\n\")\n",
    "print(Seek_special_trt_count_table.to_string())\n",
    "print(\"\\nTotal responses = {}\".format(sum_Seek_special_trt))"
   ]
  },
  {
   "cell_type": "code",
   "execution_count": 248,
   "id": "5b08475e-7b03-4038-a490-0c4c013cdd59",
   "metadata": {},
   "outputs": [
    {
     "data": {
      "image/png": "[encoded data removed]",
      "text/plain": [
       "<Figure size 640x480 with 1 Axes>"
      ]
     },
     "metadata": {},
     "output_type": "display_data"
    }
   ],
   "source": [
    "colors = [\"blue\", \"purple\"]\n",
    "special_trt_values = Seek_special_trt.values\n",
    "special_trt_labels = [\"No\", \"Yes\"] \n",
    "plt.pie(special_trt_values, labels=special_trt_labels, colors=colors, autopct=\"%1.1f%%\")\n",
    "\n",
    "plt.title(\"Did you seek any specialist for a treatment?\")\n",
    "plt.axis(\"equal\")\n",
    "\n",
    "plt.show()"
   ]
  },
  {
   "cell_type": "code",
   "execution_count": 265,
   "id": "9f31b03f-6b9e-4668-a7bc-a9bf5ee8aca5",
   "metadata": {},
   "outputs": [],
   "source": [
    "from scipy.stats import chi2_contingency\n",
    "from statsmodels.stats.multitest import multipletests"
   ]
  },
  {
   "cell_type": "code",
   "execution_count": null,
   "id": "dc39b24f-328f-45fe-b9ee-c83c1f857921",
   "metadata": {},
   "outputs": [],
   "source": []
  },
  {
   "cell_type": "code",
   "execution_count": 280,
   "id": "aea1a6e5-826c-48a4-b41d-5bb3b7848e3b",
   "metadata": {},
   "outputs": [
    {
     "name": "stdout",
     "output_type": "stream",
     "text": [
      "Contingency Table\n",
      "\n",
      "CGPA        0 - 1.99  2.00 - 2.49  2.50 - 2.99  3.00 - 3.49  3.50 - 4.00\n",
      "Depression                                                              \n",
      "No                 4            2            1           24           35\n",
      "Yes                0            0            3           19           13\n"
     ]
    }
   ],
   "source": [
    "depress_contingency_table = pd.crosstab(df[\"Depression\"], df[\"CGPA\"])\n",
    "print(\"Contingency Table\\n\")\n",
    "print(depress_contingency_table)"
   ]
  },
  {
   "cell_type": "code",
   "execution_count": 288,
   "id": "d6a27322-e2f5-4773-9d94-853d92721be6",
   "metadata": {},
   "outputs": [
    {
     "data": {
      "text/plain": [
       "<Figure size 800x600 with 0 Axes>"
      ]
     },
     "metadata": {},
     "output_type": "display_data"
    },
    {
     "data": {
      "image/png": "[encoded data removed]",
      "text/plain": [
       "<Figure size 640x480 with 1 Axes>"
      ]
     },
     "metadata": {},
     "output_type": "display_data"
    }
   ],
   "source": [
    "plt.figure(figsize=(8, 6))\n",
    "df.groupby([\"Depression\", \"CGPA\"])[\"CGPA\"].count().unstack().plot(kind=\"bar\", stacked=True)\n",
    "plt.xlabel(\"Do you have Depression?\")\n",
    "plt.ylabel(\"Count of Students\")\n",
    "plt.title(\"CGPA Distribution by Depression (Stacked)\")\n",
    "plt.show()"
   ]
  },
  {
   "cell_type": "code",
   "execution_count": 279,
   "id": "02305a4e-a33a-494f-b558-e7182562e9a3",
   "metadata": {},
   "outputs": [
    {
     "name": "stdout",
     "output_type": "stream",
     "text": [
      "Test Statistic for Depression vs CGPA\n",
      "Chi-Square statistic: 8.9975\n",
      "p-value: 0.0612\n"
     ]
    }
   ],
   "source": [
    "# Conduct the Chi-Square test\n",
    "chi2, p, dof, expected = chi2_contingency(depress_contingency_table)\n",
    "print(\"Test Statistic for Depression vs CGPA\")\n",
    "print(f\"Chi-Square statistic: {chi2:.4f}\")\n",
    "print(f\"p-value: {p:.4f}\")"
   ]
  },
  {
   "cell_type": "code",
   "execution_count": 282,
   "id": "6f45fb8c-8085-4bb9-bf30-69909e7eb419",
   "metadata": {},
   "outputs": [
    {
     "name": "stdout",
     "output_type": "stream",
     "text": [
      "CGPA     0 - 1.99  2.00 - 2.49  2.50 - 2.99  3.00 - 3.49  3.50 - 4.00\n",
      "Anxiety                                                              \n",
      "No              4            2            3           28           30\n",
      "Yes             0            0            1           15           18\n"
     ]
    }
   ],
   "source": [
    "anxiety_contingency_table = pd.crosstab(df[\"Anxiety\"], df[\"CGPA\"])\n",
    "print(anxiety_contingency_table)\n"
   ]
  },
  {
   "cell_type": "code",
   "execution_count": 289,
   "id": "6878b5e1-a178-4c80-a54b-3c71a04933fa",
   "metadata": {},
   "outputs": [
    {
     "data": {
      "text/plain": [
       "<Figure size 800x600 with 0 Axes>"
      ]
     },
     "metadata": {},
     "output_type": "display_data"
    },
    {
     "data": {
      "image/png": "[encoded data removed]",
      "text/plain": [
       "<Figure size 640x480 with 1 Axes>"
      ]
     },
     "metadata": {},
     "output_type": "display_data"
    }
   ],
   "source": [
    "plt.figure(figsize=(8, 6))\n",
    "df.groupby([\"Anxiety\", \"CGPA\"])[\"CGPA\"].count().unstack().plot(kind=\"bar\", stacked=True)\n",
    "plt.xlabel(\"Do you have Anxiety?\")\n",
    "plt.ylabel(\"Count of Students\")\n",
    "plt.title(\"CGPA Distribution by Anxiety (Stacked)\")\n",
    "plt.show()"
   ]
  },
  {
   "cell_type": "code",
   "execution_count": 286,
   "id": "51297622-7f4f-44f2-a077-563fdef3d79e",
   "metadata": {},
   "outputs": [
    {
     "name": "stdout",
     "output_type": "stream",
     "text": [
      "Test Statistic for Anxiety vs CGPA\n",
      "\n",
      "Chi-Square statistic: 3.5243\n",
      "P-value: 0.4742\n"
     ]
    }
   ],
   "source": [
    "# Conduct the Chi-Square test\n",
    "chi2, p, dof, expected = chi2_contingency(anxiety_contingency_table)\n",
    "print(\"Test Statistic for Anxiety vs CGPA\\n\")\n",
    "print(f\"Chi-Square statistic: {chi2:.4f}\")\n",
    "print(f\"P-value: {p:.4f}\")"
   ]
  },
  {
   "cell_type": "code",
   "execution_count": 294,
   "id": "a967f2d4-f44e-41a3-bbe8-571f37cbdb8a",
   "metadata": {},
   "outputs": [
    {
     "name": "stdout",
     "output_type": "stream",
     "text": [
      "CGPA          0 - 1.99  2.00 - 2.49  2.50 - 2.99  3.00 - 3.49  3.50 - 4.00\n",
      "Panic_attact                                                              \n",
      "No                   3            1            1           34           29\n",
      "Yes                  1            1            3            9           19\n",
      "\n"
     ]
    },
    {
     "data": {
      "text/plain": [
       "<Figure size 800x600 with 0 Axes>"
      ]
     },
     "metadata": {},
     "output_type": "display_data"
    },
    {
     "data": {
      "image/png": "[encoded data removed]",
      "text/plain": [
       "<Figure size 640x480 with 1 Axes>"
      ]
     },
     "metadata": {},
     "output_type": "display_data"
    },
    {
     "name": "stdout",
     "output_type": "stream",
     "text": [
      "\n",
      "Chi-Square statistic: 7.3752\n",
      "P-value: 0.1173\n"
     ]
    }
   ],
   "source": [
    "panic_contingency_table = pd.crosstab(df[\"Panic_attact\"], df[\"CGPA\"])\n",
    "print(panic_contingency_table)\n",
    "print()\n",
    "\n",
    "plt.figure(figsize=(8, 6))\n",
    "df.groupby([\"Panic_attact\", \"CGPA\"])[\"CGPA\"].count().unstack().plot(kind=\"bar\", stacked=True)\n",
    "plt.xlabel(\"Do you have Panic attack?\")\n",
    "plt.ylabel(\"Count of Students\")\n",
    "plt.title(\"CGPA Distribution by Panic attack (Stacked)\")\n",
    "plt.show()\n",
    "\n",
    "print()\n",
    "# Conduct the Chi-Square test\n",
    "chi2, p, dof, expected = chi2_contingency(panic_contingency_table)\n",
    "print(f\"Chi-Square statistic: {chi2:.4f}\")\n",
    "print(f\"P-value: {p:.4f}\")"
   ]
  },
  {
   "cell_type": "code",
   "execution_count": 297,
   "id": "f1a33dc6-2186-4ce4-b1d9-1f89ab21b2c0",
   "metadata": {},
   "outputs": [
    {
     "name": "stdout",
     "output_type": "stream",
     "text": [
      "CGPA              0 - 1.99  2.00 - 2.49  2.50 - 2.99  3.00 - 3.49  3.50 - 4.00\n",
      "Seek_special_trt                                                              \n",
      "No                       4            2            2           43           44\n",
      "Yes                      0            0            2            0            4\n",
      "\n"
     ]
    },
    {
     "data": {
      "text/plain": [
       "<Figure size 800x600 with 0 Axes>"
      ]
     },
     "metadata": {},
     "output_type": "display_data"
    },
    {
     "data": {
      "image/png": "[encoded data removed]",
      "text/plain": [
       "<Figure size 640x480 with 1 Axes>"
      ]
     },
     "metadata": {},
     "output_type": "display_data"
    },
    {
     "name": "stdout",
     "output_type": "stream",
     "text": [
      "\n",
      "Chi-Square statistic: 17.4830\n",
      "P-value: 0.0016\n"
     ]
    }
   ],
   "source": [
    "trt_contingency_table = pd.crosstab(df[\"Seek_special_trt\"], df[\"CGPA\"])  # Example with depression\n",
    "print(trt_contingency_table)\n",
    "print()\n",
    "\n",
    "plt.figure(figsize=(8, 6))\n",
    "df.groupby([\"Seek_special_trt\", \"CGPA\"])[\"CGPA\"].count().unstack().plot(kind=\"bar\", stacked=True)\n",
    "plt.xlabel(\"Did you seek any specialist for a treatment?\")\n",
    "plt.ylabel(\"Count of Students\")\n",
    "plt.title(\"CGPA Distribution by Pspecialist treatment (Stacked)\")\n",
    "plt.show()\n",
    "\n",
    "print()\n",
    "# Conduct the Chi-Square test\n",
    "chi2, p, dof, expected = chi2_contingency(trt_contingency_table)\n",
    "print(f\"Chi-Square statistic: {chi2:.4f}\")\n",
    "print(f\"P-value: {p:.4f}\")"
   ]
  },
  {
   "cell_type": "code",
   "execution_count": 263,
   "id": "cfd125b5-e860-47d1-a9bc-f0953857f5db",
   "metadata": {},
   "outputs": [
    {
     "name": "stdout",
     "output_type": "stream",
     "text": [
      "Chi-Square Test for Depression:\n",
      "Chi-Square Statistic: 8.9975\n",
      "p-value: 0.0612\n",
      "Chi-Square Test for Anxiety:\n",
      "Chi-Square Statistic: 3.5243\n",
      "p-value: 0.4742\n",
      "Chi-Square Test for Panic_attact:\n",
      "Chi-Square Statistic: 7.3752\n",
      "p-value: 0.1173\n",
      "Chi-Square Test for Seek_special_trt:\n",
      "Chi-Square Statistic: 17.4830\n",
      "p-value: 0.0016\n"
     ]
    }
   ],
   "source": [
    "for factor in [\"Depression\", \"Anxiety\", \"Panic_attact\", \"Seek_special_trt\"]:\n",
    "    table = pd.crosstab(df[factor], df[\"CGPA\"])  # Create contingency table\n",
    "    chi2, p, dof, expected = chi2_contingency(table)  # Calculate Chi-Square\n",
    "    print(f\"Chi-Square Test for {factor}:\")\n",
    "    print(f\"Chi-Square Statistic: {chi2:.4f}\")\n",
    "    print(f\"p-value: {p:.4f}\")"
   ]
  },
  {
   "cell_type": "code",
   "execution_count": 266,
   "id": "59969dab-0c11-4bbc-893f-26dc345c6967",
   "metadata": {},
   "outputs": [
    {
     "name": "stdout",
     "output_type": "stream",
     "text": [
      "Adjusted p-values: [0.0015568]\n"
     ]
    }
   ],
   "source": [
    "p_adjusted = multipletests(p, method=\"bonferroni\")[1]  # Adjust p-values (Bonferroni)\n",
    "print(f\"Adjusted p-values: {p_adjusted}\")\n"
   ]
  },
  {
   "cell_type": "code",
   "execution_count": 267,
   "id": "6101b996-cf0b-4d68-821e-f1b87869e25d",
   "metadata": {},
   "outputs": [
    {
     "name": "stdout",
     "output_type": "stream",
     "text": [
      "CGPA        0 - 1.99  2.00 - 2.49  2.50 - 2.99  3.00 - 3.49  3.50 - 4.00\n",
      "Depression                                                              \n",
      "No                 4            2            1           24           35\n",
      "Yes                0            0            3           19           13\n"
     ]
    }
   ],
   "source": [
    "table = pd.crosstab(df[\"Depression\"], df[\"CGPA\"])\n",
    "print(table)"
   ]
  },
  {
   "cell_type": "code",
   "execution_count": 268,
   "id": "ea57f799-49a7-4070-b37f-5b7630b6dd5f",
   "metadata": {},
   "outputs": [
    {
     "name": "stdout",
     "output_type": "stream",
     "text": [
      "CGPA        0 - 1.99  2.00 - 2.49  2.50 - 2.99  3.00 - 3.49  3.50 - 4.00\n",
      "Depression                                                              \n",
      "No          6.060606     3.030303     1.515152    36.363636    53.030303\n",
      "Yes         0.000000     0.000000     8.571429    54.285714    37.142857\n"
     ]
    }
   ],
   "source": [
    "table = table.apply(lambda r: r / r.sum() * 100, axis=1)  # Calculate row percentages\n",
    "print(table)"
   ]
  },
  {
   "cell_type": "code",
   "execution_count": 269,
   "id": "c540314f-cce0-43f7-91b2-a2430f777b4d",
   "metadata": {},
   "outputs": [
    {
     "data": {
      "image/png": "[encoded data removed]",
      "text/plain": [
       "<Figure size 640x480 with 1 Axes>"
      ]
     },
     "metadata": {},
     "output_type": "display_data"
    }
   ],
   "source": [
    "table.plot(kind=\"bar\")\n",
    "plt.title(\"Distribution of CGPA Categories by Depression\")\n",
    "plt.xlabel(\"Depression\")\n",
    "plt.ylabel(\"Percentage of Students\")\n",
    "plt.show()"
   ]
  }
 ],
 "metadata": {
  "kernelspec": {
   "display_name": "Python 3 (ipykernel)",
   "language": "python",
   "name": "python3"
  },
  "language_info": {
   "codemirror_mode": {
    "name": "ipython",
    "version": 3
   },
   "file_extension": ".py",
   "mimetype": "text/x-python",
   "name": "python",
   "nbconvert_exporter": "python",
   "pygments_lexer": "ipython3",
   "version": "3.10.9"
  }
 },
 "nbformat": 4,
 "nbformat_minor": 5
}
